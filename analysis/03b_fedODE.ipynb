{
 "cells": [
  {
   "cell_type": "markdown",
   "id": "5459e0e5",
   "metadata": {},
   "source": [
    "## Baseline checks\n",
    "\n",
    "Just checking everything works as it should"
   ]
  },
  {
   "cell_type": "code",
   "execution_count": 8,
   "id": "f55c6292",
   "metadata": {},
   "outputs": [],
   "source": [
    "import torch\n",
    "import pandas as pd\n",
    "import matplotlib.pyplot as plt\n",
    "import seaborn as sns\n",
    "import glob\n",
    "import numpy as np\n",
    "import json\n",
    "import os\n",
    "# set cwd\n",
    "os.chdir(\"/Users/luisa/Desktop/nygc/cluster/projects/fl4tsf/analysis\")\n",
    "\n"
   ]
  },
  {
   "cell_type": "markdown",
   "id": "914bce07",
   "metadata": {},
   "source": [
    "## Use the produced model to plot the output"
   ]
  },
  {
   "cell_type": "code",
   "execution_count": null,
   "id": "a790cfb8",
   "metadata": {},
   "outputs": [],
   "source": [
    "\n",
    "\n",
    "# Now load the federated learning loss\n",
    "fedode = f\"../results_luisa/periodic/federated_training/FedODE/50_rounds/rep_1-alpha_0.5-lr_0.05-batchsize_32_clipping_False/federated_outputs/results.json\"\n",
    "fedavg = f\"../results_luisa/periodic/federated_training/FedAvg/50_rounds/rep_1-alpha_0.5-lr_0.05-batchsize_32_clipping_False/federated_outputs/results.json\""
   ]
  },
  {
   "cell_type": "code",
   "execution_count": 43,
   "id": "31217ba6",
   "metadata": {},
   "outputs": [
    {
     "data": {
      "image/png": "[encoded data removed]",
      "text/plain": [
       "<Figure size 500x250 with 1 Axes>"
      ]
     },
     "metadata": {},
     "output_type": "display_data"
    }
   ],
   "source": [
    "# plot loss of both fedode and fedavg\n",
    "with open(fedavg, 'r') as f:\n",
    "    data_fedavg = json.load(f)\n",
    "with open(fedode, 'r') as f:\n",
    "    data_fedode = json.load(f)\n",
    "\n",
    "data_fedavg_df = pd.DataFrame(data_fedavg['federated_evaluate'])\n",
    "data_fedode_df = pd.DataFrame(data_fedode['federated_evaluate'])\n",
    "# join the two dataframes on the round\n",
    "data_fedavg_df['round'] = data_fedavg_df['round'].astype(int)\n",
    "data_fedode_df['round'] = data_fedode_df['round'].astype(int)\n",
    "df_fedavg_fedode = pd.merge(data_fedavg_df, data_fedode_df, on='round')\n",
    "# now plot the data\n",
    "plt.figure(figsize=(5, 2.5))\n",
    "plt.plot(df_fedavg_fedode['round'], df_fedavg_fedode['federated_evaluate_loss_x'], label='FedAvg Test Loss', color='grey')  \n",
    "plt.plot(df_fedavg_fedode['round'], df_fedavg_fedode['federated_evaluate_loss_y'], label='FedODE Test Loss', color='red')\n",
    "# add legend on the outside\n",
    "plt.legend(loc='upper left', bbox_to_anchor=(1, 1))\n",
    "plt.ylim(bottom=0)\n",
    "# x axis is discrete\n",
    "plt.xticks(df_fedavg_fedode['round'])\n",
    "# make the x ticks every 5 rounds\n",
    "plt.xticks(np.arange(0, 51, 5))\n",
    "# add x and y labels\n",
    "plt.xlabel('Round')\n",
    "plt.ylabel('Loss')\n",
    "plt.show()\n"
   ]
  },
  {
   "cell_type": "code",
   "execution_count": null,
   "id": "f9007f95",
   "metadata": {},
   "outputs": [],
   "source": [
    "def get_df(field = \"nodesolve\"):\n",
    "    cns = [0, 1]\n",
    "    df = pd.DataFrame()\n",
    "    for cn in cns:\n",
    "        results_path = f\"../results_luisa/periodic/federated_training/FedODE/50_rounds/rep_1-alpha_0.5-lr_0.05-batchsize_32_clipping_False/federated_outputs/results_{cn}.json\"\n",
    "        # path to the results file\n",
    "        with open(results_path, \"r\") as f:\n",
    "            data = json.load(f)\n",
    "        for entry in data[\"client_train\"]:\n",
    "                round_num = entry[\"round\"]\n",
    "                for itr, loss_val in enumerate(entry[field]):\n",
    "                    df = pd.concat([df, pd.DataFrame([{\n",
    "                        \"client\": cn,\n",
    "                        \"round\": round_num,\n",
    "                        \"itr\": itr,\n",
    "                        field: loss_val\n",
    "                    }])], ignore_index=True)\n",
    "    \n",
    "    df[\"itr\"] = df[\"itr\"] + 1\n",
    "    max_itr = df[\"itr\"].max()\n",
    "    df[\"itr\"] = df[\"itr\"] + (max_itr* df[\"round\"])\n",
    "    # keep only itr 1:3\n",
    "    return df\n",
    "\n",
    "    \n",
    "\n",
    "# keep only itr 1:3\n",
    "df = get_df(\"nodesolve\")"
   ]
  },
  {
   "cell_type": "code",
   "execution_count": 41,
   "id": "609b5773",
   "metadata": {},
   "outputs": [
    {
     "data": {
      "text/html": [
       "<div>\n",
       "<style scoped>\n",
       "    .dataframe tbody tr th:only-of-type {\n",
       "        vertical-align: middle;\n",
       "    }\n",
       "\n",
       "    .dataframe tbody tr th {\n",
       "        vertical-align: top;\n",
       "    }\n",
       "\n",
       "    .dataframe thead th {\n",
       "        text-align: right;\n",
       "    }\n",
       "</style>\n",
       "<table border=\"1\" class=\"dataframe\">\n",
       "  <thead>\n",
       "    <tr style=\"text-align: right;\">\n",
       "      <th></th>\n",
       "      <th>client</th>\n",
       "      <th>round</th>\n",
       "      <th>itr</th>\n",
       "      <th>nodesolve</th>\n",
       "    </tr>\n",
       "  </thead>\n",
       "  <tbody>\n",
       "    <tr>\n",
       "      <th>0</th>\n",
       "      <td>0</td>\n",
       "      <td>0</td>\n",
       "      <td>1</td>\n",
       "      <td>20</td>\n",
       "    </tr>\n",
       "    <tr>\n",
       "      <th>1</th>\n",
       "      <td>0</td>\n",
       "      <td>0</td>\n",
       "      <td>2</td>\n",
       "      <td>26</td>\n",
       "    </tr>\n",
       "    <tr>\n",
       "      <th>2</th>\n",
       "      <td>0</td>\n",
       "      <td>0</td>\n",
       "      <td>3</td>\n",
       "      <td>32</td>\n",
       "    </tr>\n",
       "    <tr>\n",
       "      <th>3</th>\n",
       "      <td>0</td>\n",
       "      <td>0</td>\n",
       "      <td>4</td>\n",
       "      <td>38</td>\n",
       "    </tr>\n",
       "    <tr>\n",
       "      <th>4</th>\n",
       "      <td>0</td>\n",
       "      <td>0</td>\n",
       "      <td>5</td>\n",
       "      <td>44</td>\n",
       "    </tr>\n",
       "    <tr>\n",
       "      <th>...</th>\n",
       "      <td>...</td>\n",
       "      <td>...</td>\n",
       "      <td>...</td>\n",
       "      <td>...</td>\n",
       "    </tr>\n",
       "    <tr>\n",
       "      <th>2995</th>\n",
       "      <td>1</td>\n",
       "      <td>49</td>\n",
       "      <td>1496</td>\n",
       "      <td>170</td>\n",
       "    </tr>\n",
       "    <tr>\n",
       "      <th>2996</th>\n",
       "      <td>1</td>\n",
       "      <td>49</td>\n",
       "      <td>1497</td>\n",
       "      <td>182</td>\n",
       "    </tr>\n",
       "    <tr>\n",
       "      <th>2997</th>\n",
       "      <td>1</td>\n",
       "      <td>49</td>\n",
       "      <td>1498</td>\n",
       "      <td>170</td>\n",
       "    </tr>\n",
       "    <tr>\n",
       "      <th>2998</th>\n",
       "      <td>1</td>\n",
       "      <td>49</td>\n",
       "      <td>1499</td>\n",
       "      <td>164</td>\n",
       "    </tr>\n",
       "    <tr>\n",
       "      <th>2999</th>\n",
       "      <td>1</td>\n",
       "      <td>49</td>\n",
       "      <td>1500</td>\n",
       "      <td>170</td>\n",
       "    </tr>\n",
       "  </tbody>\n",
       "</table>\n",
       "<p>3000 rows × 4 columns</p>\n",
       "</div>"
      ],
      "text/plain": [
       "      client  round   itr  nodesolve\n",
       "0          0      0     1         20\n",
       "1          0      0     2         26\n",
       "2          0      0     3         32\n",
       "3          0      0     4         38\n",
       "4          0      0     5         44\n",
       "...      ...    ...   ...        ...\n",
       "2995       1     49  1496        170\n",
       "2996       1     49  1497        182\n",
       "2997       1     49  1498        170\n",
       "2998       1     49  1499        164\n",
       "2999       1     49  1500        170\n",
       "\n",
       "[3000 rows x 4 columns]"
      ]
     },
     "execution_count": 41,
     "metadata": {},
     "output_type": "execute_result"
    }
   ],
   "source": [
    "df"
   ]
  },
  {
   "cell_type": "code",
   "execution_count": 51,
   "id": "d1b23dbc",
   "metadata": {},
   "outputs": [
    {
     "name": "stderr",
     "output_type": "stream",
     "text": [
      "/var/folders/yx/rfhrpk093hz1gfwtn7qxt_180000gq/T/ipykernel_17512/381112687.py:3: UserWarning: Ignoring `palette` because no `hue` variable has been assigned.\n",
      "  sns.lineplot(data=df, x=\"itr\", y=\"nodesolve\", palette=\"Set1\")\n",
      "/var/folders/yx/rfhrpk093hz1gfwtn7qxt_180000gq/T/ipykernel_17512/381112687.py:5: UserWarning: No artists with labels found to put in legend.  Note that artists whose label start with an underscore are ignored when legend() is called with no argument.\n",
      "  plt.legend(title=\"Client\")\n",
      "/var/folders/yx/rfhrpk093hz1gfwtn7qxt_180000gq/T/ipykernel_17512/381112687.py:6: UserWarning: No artists with labels found to put in legend.  Note that artists whose label start with an underscore are ignored when legend() is called with no argument.\n",
      "  plt.legend(title=\"Client\", bbox_to_anchor=(1.05, 1), loc='upper left')\n"
     ]
    },
    {
     "data": {
      "image/png": "[encoded data removed]",
      "text/plain": [
       "<Figure size 500x250 with 1 Axes>"
      ]
     },
     "metadata": {},
     "output_type": "display_data"
    }
   ],
   "source": [
    "# Plot Loss for making sure, y loss, x round, color client\n",
    "plt.figure(figsize=(5, 2.5))\n",
    "sns.lineplot(data=df, x=\"itr\", y=\"nodesolve\", palette=\"Set1\")\n",
    "\n",
    "plt.legend(title=\"Client\")\n",
    "plt.legend(title=\"Client\", bbox_to_anchor=(1.05, 1), loc='upper left')\n",
    "# x integer not float ticks\n",
    "plt.title(\"ODE solver steps across iterations and clients\")\n",
    "max_itr = df[\"itr\"].max() // (df[\"round\"].max()+1)\n",
    "# plot rounds as vertical lines\n",
    "for i in range(0, df[\"round\"].max()+2):\n",
    "    plt.axvline(x=(i*max_itr), color='gray', linestyle='--', linewidth=0.5)\n",
    "    # add ticks with the round number\n",
    "    #plt.text((i*max_itr), 0, str(i), fontsize=8, ha='center', va='bottom')\n",
    "    # remove the ticks\n",
    "    plt.xticks()\n",
    "# remove the ticks\n",
    "plt.xticks([])\n",
    "\n",
    "# y label \n",
    "plt.ylabel(\"# ODE solver steps\")\n",
    "plt.xlabel(\"\")\n",
    "# x label\n",
    "plt.show()"
   ]
  },
  {
   "cell_type": "code",
   "execution_count": null,
   "id": "63f635aa",
   "metadata": {},
   "outputs": [],
   "source": []
  }
 ],
 "metadata": {
  "kernelspec": {
   "display_name": "base",
   "language": "python",
   "name": "python3"
  },
  "language_info": {
   "codemirror_mode": {
    "name": "ipython",
    "version": 3
   },
   "file_extension": ".py",
   "mimetype": "text/x-python",
   "name": "python",
   "nbconvert_exporter": "python",
   "pygments_lexer": "ipython3",
   "version": "3.12.7"
  }
 },
 "nbformat": 4,
 "nbformat_minor": 5
}
