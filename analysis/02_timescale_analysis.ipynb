{
 "cells": [
  {
   "cell_type": "markdown",
   "id": "d733659f",
   "metadata": {},
   "source": [
    "# Timescales"
   ]
  },
  {
   "cell_type": "markdown",
   "id": "37675133",
   "metadata": {},
   "source": [
    "Test script, to be integrated in main pipeline"
   ]
  },
  {
   "cell_type": "code",
   "execution_count": 14,
   "id": "84da7b8c",
   "metadata": {},
   "outputs": [
    {
     "name": "stdout",
     "output_type": "stream",
     "text": [
      "The autoreload extension is already loaded. To reload it, use:\n",
      "  %reload_ext autoreload\n"
     ]
    }
   ],
   "source": [
    "import os\n",
    "os.chdir(\"/Users/luisa/Desktop/nygc/cluster/projects/fl4tsf/bin\")\n",
    "\n",
    "import numpy as np\n",
    "import matplotlib.pyplot as plt\n",
    "import torch\n",
    "import pandas as pd\n",
    "import seaborn as sns\n",
    "import sys\n",
    "import json\n",
    "import glob\n",
    "from lib import utils\n",
    "\n",
    "sys.path.append(os.getcwd()) \n",
    "sns.set(style='whitegrid')\n",
    "from lib.dataset_utils import *\n",
    "%matplotlib inline\n",
    "%load_ext autoreload\n",
    "%autoreload 2\n",
    "\n",
    "from lib.plot_utils import read_loss_file,prepare_df_for_plotting, get_summary_lambdas"
   ]
  },
  {
   "cell_type": "markdown",
   "id": "ab4655c9",
   "metadata": {},
   "source": [
    "#### monitor number of ODEs"
   ]
  },
  {
   "cell_type": "code",
   "execution_count": 6,
   "id": "61315d44",
   "metadata": {},
   "outputs": [
    {
     "data": {
      "text/plain": [
       "['../results_timescales_mini/timescales/federated_training/FedODE/3_rounds/rep_1-alpha_0.0-lr_0.001-batchsize_32_clipping_False_lrdecay_1.0_localepochs_2_decayonset_15_alpha_0.0/federated_outputs/results.json']"
      ]
     },
     "execution_count": 6,
     "metadata": {},
     "output_type": "execute_result"
    }
   ],
   "source": [
    "result_json = glob.glob(f\"../results_timescales_mini/**/federated_training/**/**/**/results.json\", recursive=True)\n",
    "result_json = list(set(result_json))\n",
    "result_json"
   ]
  },
  {
   "cell_type": "code",
   "execution_count": 11,
   "id": "a7422c58",
   "metadata": {},
   "outputs": [],
   "source": [
    "df_centralized_evaluate = pd.DataFrame()\n",
    "df_federated_evaluate = pd.DataFrame()\n",
    "df_aggregation = pd.DataFrame()\n",
    "for file in result_json:\n",
    "    df_centralized_evaluate_temp, df_federated_evaluate_temp, df_aggregation_temp = read_loss_file(file)\n",
    "    df_centralized_evaluate = pd.concat([df_centralized_evaluate, df_centralized_evaluate_temp])\n",
    "    df_federated_evaluate = pd.concat([df_federated_evaluate, df_federated_evaluate_temp])\n",
    "    df_aggregation = pd.concat([df_aggregation, df_aggregation_temp])\n",
    "df = pd.concat([df_centralized_evaluate, df_federated_evaluate])\n",
    "df_summary_lambdas = get_summary_lambdas(df_aggregation)"
   ]
  },
  {
   "cell_type": "code",
   "execution_count": 12,
   "id": "f95751ea",
   "metadata": {},
   "outputs": [
    {
     "data": {
      "text/html": [
       "<div>\n",
       "<style scoped>\n",
       "    .dataframe tbody tr th:only-of-type {\n",
       "        vertical-align: middle;\n",
       "    }\n",
       "\n",
       "    .dataframe tbody tr th {\n",
       "        vertical-align: top;\n",
       "    }\n",
       "\n",
       "    .dataframe thead th {\n",
       "        text-align: right;\n",
       "    }\n",
       "</style>\n",
       "<table border=\"1\" class=\"dataframe\">\n",
       "  <thead>\n",
       "    <tr style=\"text-align: right;\">\n",
       "      <th></th>\n",
       "      <th>round</th>\n",
       "      <th>lambda</th>\n",
       "      <th>steps</th>\n",
       "      <th>alpha</th>\n",
       "      <th>client</th>\n",
       "    </tr>\n",
       "  </thead>\n",
       "  <tbody>\n",
       "    <tr>\n",
       "      <th>0</th>\n",
       "      <td>1</td>\n",
       "      <td>0.929873</td>\n",
       "      <td>3368</td>\n",
       "      <td>0.0</td>\n",
       "      <td>1</td>\n",
       "    </tr>\n",
       "    <tr>\n",
       "      <th>1</th>\n",
       "      <td>2</td>\n",
       "      <td>0.929730</td>\n",
       "      <td>3440</td>\n",
       "      <td>0.0</td>\n",
       "      <td>1</td>\n",
       "    </tr>\n",
       "    <tr>\n",
       "      <th>2</th>\n",
       "      <td>3</td>\n",
       "      <td>0.942655</td>\n",
       "      <td>4274</td>\n",
       "      <td>0.0</td>\n",
       "      <td>1</td>\n",
       "    </tr>\n",
       "    <tr>\n",
       "      <th>3</th>\n",
       "      <td>1</td>\n",
       "      <td>0.070127</td>\n",
       "      <td>254</td>\n",
       "      <td>0.0</td>\n",
       "      <td>0</td>\n",
       "    </tr>\n",
       "    <tr>\n",
       "      <th>4</th>\n",
       "      <td>2</td>\n",
       "      <td>0.070270</td>\n",
       "      <td>260</td>\n",
       "      <td>0.0</td>\n",
       "      <td>0</td>\n",
       "    </tr>\n",
       "    <tr>\n",
       "      <th>5</th>\n",
       "      <td>3</td>\n",
       "      <td>0.057345</td>\n",
       "      <td>260</td>\n",
       "      <td>0.0</td>\n",
       "      <td>0</td>\n",
       "    </tr>\n",
       "  </tbody>\n",
       "</table>\n",
       "</div>"
      ],
      "text/plain": [
       "   round    lambda  steps  alpha  client\n",
       "0      1  0.929873   3368    0.0       1\n",
       "1      2  0.929730   3440    0.0       1\n",
       "2      3  0.942655   4274    0.0       1\n",
       "3      1  0.070127    254    0.0       0\n",
       "4      2  0.070270    260    0.0       0\n",
       "5      3  0.057345    260    0.0       0"
      ]
     },
     "execution_count": 12,
     "metadata": {},
     "output_type": "execute_result"
    }
   ],
   "source": [
    "df_summary_lambdas"
   ]
  },
  {
   "cell_type": "code",
   "execution_count": null,
   "id": "11681dff",
   "metadata": {},
   "outputs": [
    {
     "name": "stderr",
     "output_type": "stream",
     "text": [
      "/var/folders/yx/rfhrpk093hz1gfwtn7qxt_180000gq/T/ipykernel_49494/1574577200.py:38: UserWarning: FigureCanvasAgg is non-interactive, and thus cannot be shown\n",
      "  plt.show()\n"
     ]
    }
   ],
   "source": [
    "loss_df = df[df['type'].isin([\"centralized\", \"federated\"])]\n",
    "\n",
    "\n",
    "# fig size\n",
    "plt.figure(figsize=(10, 3))\n",
    "# Create FacetGrid\n",
    "g = sns.FacetGrid(\n",
    "    loss_df,\n",
    "    col=\"alpha\",\n",
    "    height=2.5,\n",
    "    aspect=1.5,  # Width = height * aspect\n",
    "    sharey=True\n",
    ")\n",
    "\n",
    "# Map the lineplot onto the grid\n",
    "g.map_dataframe(\n",
    "    sns.lineplot,\n",
    "    x='round',\n",
    "    y='loss',\n",
    "    hue='type',\n",
    "    palette='tab10'\n",
    ")\n",
    "\n",
    "# Adjustments\n",
    "g.set_axis_labels(\"round\", \"loss\")\n",
    "g.set_titles(\" alpha {col_name}\")\n",
    "g.set(ylim=(0, None))\n",
    "\n",
    "# Move legend outside\n",
    "g.add_legend(title =\"alpha\")\n",
    "g._legend.set_bbox_to_anchor((1.05, 0.5))\n",
    "# legend \n",
    "g._legend.set_loc(\"center left\")\n",
    "# title\n",
    "plt.tight_layout()\n",
    "plt.show()\n"
   ]
  },
  {
   "cell_type": "code",
   "execution_count": 16,
   "id": "9f57261b",
   "metadata": {},
   "outputs": [
    {
     "data": {
      "image/png": "[encoded data removed]",
      "text/plain": [
       "<Figure size 400x200 with 1 Axes>"
      ]
     },
     "metadata": {},
     "output_type": "display_data"
    }
   ],
   "source": [
    "######################################\n",
    "#  Plot the last loss vs difference\n",
    "#######################################\n",
    "plt.figure(figsize=(4, 2))\n",
    "df_summary_lambdas = df_summary_lambdas[df_summary_lambdas[\"alpha\"]== 0.0]\n",
    "sns.lineplot(data=df_summary_lambdas, x='round', y='steps',\n",
    "             hue='client', markers=True, dashes=False)\n",
    "plt.legend(bbox_to_anchor=(1.05, 1), loc='upper left',\n",
    "           borderaxespad=0., title='Client', fontsize='small', title_fontsize='small')\n",
    "plt.ylim(0,)\n",
    "plt.tight_layout()\n",
    "plt.show()"
   ]
  }
 ],
 "metadata": {
  "kernelspec": {
   "display_name": "base",
   "language": "python",
   "name": "python3"
  },
  "language_info": {
   "codemirror_mode": {
    "name": "ipython",
    "version": 3
   },
   "file_extension": ".py",
   "mimetype": "text/x-python",
   "name": "python",
   "nbconvert_exporter": "python",
   "pygments_lexer": "ipython3",
   "version": "3.12.7"
  }
 },
 "nbformat": 4,
 "nbformat_minor": 5
}
