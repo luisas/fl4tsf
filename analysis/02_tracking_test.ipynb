{
 "cells": [
  {
   "cell_type": "code",
   "execution_count": 2,
   "id": "2d7801a3",
   "metadata": {},
   "outputs": [],
   "source": [
    "import os\n",
    "import glob"
   ]
  },
  {
   "cell_type": "code",
   "execution_count": 5,
   "id": "33cdf2ca",
   "metadata": {},
   "outputs": [],
   "source": [
    "centralized_training_loss = glob.glob(f\"../test/**/centralized_training/**/loss_per_epoch.csv\", recursive=True)\n",
    "local_loss = glob.glob(f\"../test/**/local_training/**/loss_per_epoch.csv\", recursive=True)\n",
    "federated_loss = glob.glob(f\"../test/**/federated_training/**/loss_per_epoch.csv\", recursive=True)"
   ]
  },
  {
   "cell_type": "code",
   "execution_count": null,
   "id": "735b3797",
   "metadata": {},
   "outputs": [],
   "source": []
  }
 ],
 "metadata": {
  "kernelspec": {
   "display_name": "base",
   "language": "python",
   "name": "python3"
  },
  "language_info": {
   "codemirror_mode": {
    "name": "ipython",
    "version": 3
   },
   "file_extension": ".py",
   "mimetype": "text/x-python",
   "name": "python",
   "nbconvert_exporter": "python",
   "pygments_lexer": "ipython3",
   "version": "3.12.7"
  }
 },
 "nbformat": 4,
 "nbformat_minor": 5
}
