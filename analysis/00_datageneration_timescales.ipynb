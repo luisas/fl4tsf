{
 "cells": [
  {
   "cell_type": "markdown",
   "id": "d733659f",
   "metadata": {},
   "source": [
    "# TODO - create different lengths of intervals to test ODE"
   ]
  },
  {
   "cell_type": "markdown",
   "id": "37675133",
   "metadata": {},
   "source": [
    "Test script, to be integrated in main pipeline"
   ]
  },
  {
   "cell_type": "code",
   "execution_count": 8,
   "id": "84da7b8c",
   "metadata": {},
   "outputs": [
    {
     "name": "stdout",
     "output_type": "stream",
     "text": [
      "The autoreload extension is already loaded. To reload it, use:\n",
      "  %reload_ext autoreload\n"
     ]
    }
   ],
   "source": [
    "import os\n",
    "os.chdir(\"/Users/luisa/Desktop/nygc/cluster/projects/fl4tsf/bin\")\n",
    "\n",
    "import numpy as np\n",
    "import matplotlib.pyplot as plt\n",
    "from lib.generate_timeseries import Periodic_1d\n",
    "import torch\n",
    "from collections import Counter\n",
    "from matplotlib import cm\n",
    "from torch.distributions import uniform\n",
    "import pandas as pd\n",
    "import seaborn as sns\n",
    "import sys\n",
    "import json\n",
    "import glob\n",
    "from lib import utils\n",
    "\n",
    "sys.path.append(os.getcwd()) \n",
    "# Ensure seaborn theme\n",
    "sns.set(style='whitegrid')\n",
    "from lib.dataset_utils import *\n",
    "%matplotlib inline\n",
    "%load_ext autoreload\n",
    "%autoreload 2"
   ]
  },
  {
   "cell_type": "code",
   "execution_count": 10,
   "id": "38afcf12",
   "metadata": {},
   "outputs": [],
   "source": [
    "####################################\n",
    "# Data generation\n",
    "#####################################\n",
    "\n",
    "path_prefix = \"/Users/luisa/Desktop/nygc/cluster/projects/fl4tsf/data\"\n",
    "prefix = \"timescales\"\n",
    "\n",
    "freq = 0.5\n",
    "amp = 1.0\n",
    "noise_weight = 0\n",
    "n_total_tp = None\n",
    "max_t_extrap = None\n",
    "n_clients = 2\n",
    "n_samples_per_client = 200  # number of samples per client\n",
    "\n",
    "\n",
    "\n",
    "max_t_0 = 5.0  # maximum time for client 0\n",
    "max_t_1 = 1000.0  # maximum time for client 1\n",
    "\n",
    "# Generate data for first client\n",
    "time_steps_0 = sample_timesteps(n_total_tp= 100, max_t_extrap = max_t_0)\n",
    "dataset, timesteps = get_dataset(amp,freq, time_steps_0, noise_weight=noise_weight, n_samples=n_samples_per_client)\n",
    "amps = np.full((dataset.shape[0],), amp)\n",
    "freqs = np.full((dataset.shape[0],), freq)\n",
    "full_dataset = amps, freqs, dataset, timesteps\n",
    "train, test = split_train_test_with_meta(full_dataset, train_fraq = 0.8)\n",
    "store_dataset(train, test, dataset_prefix=prefix, path_prefix=path_prefix, client_prefix=f\"client_0\")\n",
    "\n",
    "\n",
    "# Generate data for first client\n",
    "time_steps_1 = sample_timesteps(n_total_tp= 100, max_t_extrap = max_t_1)\n",
    "dataset, timesteps = get_dataset(amp,freq, time_steps_1, noise_weight=noise_weight, n_samples=n_samples_per_client)\n",
    "amps = np.full((dataset.shape[0],), amp)\n",
    "freqs = np.full((dataset.shape[0],), freq)\n",
    "full_dataset = amps, freqs, dataset, timesteps\n",
    "train, test = split_train_test_with_meta(full_dataset, train_fraq = 0.8)\n",
    "store_dataset(train, test, dataset_prefix=prefix, path_prefix=path_prefix, client_prefix=f\"client_1\")\n",
    "\n"
   ]
  },
  {
   "cell_type": "code",
   "execution_count": 21,
   "id": "61315d44",
   "metadata": {},
   "outputs": [
    {
     "data": {
      "text/plain": [
       "tensor([0.0000, 0.0592, 0.0710, 0.0874, 0.1145, 0.1555, 0.1562, 0.2129, 0.2286,\n",
       "        0.2766, 0.3014, 0.3347, 0.4281, 0.4582, 0.5389, 0.6081, 0.6230, 0.6339,\n",
       "        0.6712, 0.6871, 0.7278, 0.7374, 0.7593, 0.7639, 0.7824, 0.7952, 0.8353,\n",
       "        0.8432, 0.8701, 0.9077, 0.9490, 0.9717, 1.1578, 1.1928, 1.2182, 1.2896,\n",
       "        1.3234, 1.3243, 1.3532, 1.3689, 1.4418, 1.5433, 1.5833, 1.5853, 1.6884,\n",
       "        1.7358, 2.0259, 2.0910, 2.1309, 2.1400, 2.1422, 2.2150, 2.4400, 2.4907,\n",
       "        2.4915, 2.5205, 2.5518, 2.5975, 2.6491, 2.8196, 2.8318, 2.8359, 2.8455,\n",
       "        2.9442, 2.9548, 2.9555, 2.9580, 2.9761, 3.0870, 3.1460, 3.2797, 3.3209,\n",
       "        3.3433, 3.3467, 3.4589, 3.4718, 3.6026, 3.6689, 3.6815, 3.7399, 3.8093,\n",
       "        3.8374, 3.8525, 3.8571, 3.9267, 3.9584, 4.0071, 4.0953, 4.1718, 4.2271,\n",
       "        4.3642, 4.4166, 4.4306, 4.4767, 4.5137, 4.5955, 4.7557, 4.8726, 4.9344,\n",
       "        4.9827])"
      ]
     },
     "execution_count": 21,
     "metadata": {},
     "output_type": "execute_result"
    }
   ],
   "source": [
    "# load and plot data\n",
    "c_0_ts = torch.load(f\"{path_prefix}/{prefix}/client_0_time_steps.pt\", weights_only=False)\n",
    "c_0_ts"
   ]
  },
  {
   "cell_type": "code",
   "execution_count": 20,
   "id": "a7422c58",
   "metadata": {},
   "outputs": [
    {
     "data": {
      "text/plain": [
       "tensor([  0.0000,   9.6570,  11.6301,  13.7492,  25.1303,  29.8907,  48.2784,\n",
       "         48.5740,  59.4327,  87.5932,  88.1577,  93.1911, 100.2043, 123.4890,\n",
       "        148.3834, 153.2595, 161.1667, 170.0214, 190.0383, 200.3964, 216.7400,\n",
       "        239.7058, 256.7921, 263.5087, 265.4204, 278.2031, 278.9200, 290.0264,\n",
       "        306.0375, 306.0620, 318.0219, 326.4049, 339.0335, 342.5207, 346.9846,\n",
       "        353.8094, 359.2240, 370.7562, 371.6301, 398.3091, 401.6446, 406.7438,\n",
       "        418.2039, 430.6834, 438.9696, 440.7473, 452.4289, 465.7628, 487.8668,\n",
       "        496.2555, 505.8931, 524.6565, 533.3548, 538.9147, 539.4377, 562.8122,\n",
       "        571.5269, 574.3207, 576.1981, 580.7635, 597.8289, 627.9903, 639.6302,\n",
       "        648.3381, 670.3043, 671.7297, 677.9303, 682.0687, 682.2288, 684.0474,\n",
       "        692.4900, 697.0333, 709.3802, 710.9171, 722.9484, 723.5056, 755.4008,\n",
       "        755.5103, 762.2203, 776.7251, 777.6879, 794.9725, 796.1215, 800.9705,\n",
       "        825.3120, 839.9965, 847.2507, 848.2404, 879.2792, 886.5422, 900.4299,\n",
       "        902.8007, 903.5970, 947.4180, 959.7402, 967.6451, 992.2568, 993.8056,\n",
       "        997.4108, 999.5431])"
      ]
     },
     "execution_count": 20,
     "metadata": {},
     "output_type": "execute_result"
    }
   ],
   "source": [
    "c_1_ts = torch.load(f\"{path_prefix}/{prefix}/client_1_time_steps.pt\", weights_only=False)\n",
    "c_1_ts"
   ]
  },
  {
   "cell_type": "code",
   "execution_count": null,
   "id": "98648aac",
   "metadata": {},
   "outputs": [
    {
     "data": {
      "text/plain": [
       "tensor([  0.0000,   9.6570,  11.6301,  13.7492,  25.1303,  29.8907,  48.2784,\n",
       "         48.5740,  59.4327,  87.5932,  88.1577,  93.1911, 100.2043, 123.4890,\n",
       "        148.3834, 153.2595, 161.1667, 170.0214, 190.0383, 200.3964, 216.7400,\n",
       "        239.7058, 256.7921, 263.5087, 265.4204, 278.2031, 278.9200, 290.0264,\n",
       "        306.0375, 306.0620, 318.0219, 326.4049, 339.0335, 342.5207, 346.9846,\n",
       "        353.8094, 359.2240, 370.7562, 371.6301, 398.3091, 401.6446, 406.7438,\n",
       "        418.2039, 430.6834, 438.9696, 440.7473, 452.4289, 465.7628, 487.8668,\n",
       "        496.2555, 505.8931, 524.6565, 533.3548, 538.9147, 539.4377, 562.8122,\n",
       "        571.5269, 574.3207, 576.1981, 580.7635, 597.8289, 627.9903, 639.6302,\n",
       "        648.3381, 670.3043, 671.7297, 677.9303, 682.0687, 682.2288, 684.0474,\n",
       "        692.4900, 697.0333, 709.3802, 710.9171, 722.9484, 723.5056, 755.4008,\n",
       "        755.5103, 762.2203, 776.7251, 777.6879, 794.9725, 796.1215, 800.9705,\n",
       "        825.3120, 839.9965, 847.2507, 848.2404, 879.2792, 886.5422, 900.4299,\n",
       "        902.8007, 903.5970, 947.4180, 959.7402, 967.6451, 992.2568, 993.8056,\n",
       "        997.4108, 999.5431])"
      ]
     },
     "metadata": {},
     "output_type": "display_data"
    }
   ],
   "source": [
    "c_1_ts = torch.load(f\"{path_prefix}/{prefix}/client_1_time_steps.pt\", weights_only=False)\n",
    "c_1_ts"
   ]
  }
 ],
 "metadata": {
  "kernelspec": {
   "display_name": "base",
   "language": "python",
   "name": "python3"
  },
  "language_info": {
   "codemirror_mode": {
    "name": "ipython",
    "version": 3
   },
   "file_extension": ".py",
   "mimetype": "text/x-python",
   "name": "python",
   "nbconvert_exporter": "python",
   "pygments_lexer": "ipython3",
   "version": "3.12.7"
  }
 },
 "nbformat": 4,
 "nbformat_minor": 5
}
