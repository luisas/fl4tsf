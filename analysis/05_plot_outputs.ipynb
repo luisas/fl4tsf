{
 "cells": [
  {
   "cell_type": "markdown",
   "id": "d4b994eb",
   "metadata": {},
   "source": [
    "# Plot models"
   ]
  },
  {
   "cell_type": "code",
   "execution_count": 53,
   "id": "09fc284f",
   "metadata": {},
   "outputs": [
    {
     "name": "stdout",
     "output_type": "stream",
     "text": [
      "The autoreload extension is already loaded. To reload it, use:\n",
      "  %reload_ext autoreload\n"
     ]
    }
   ],
   "source": [
    "%load_ext autoreload\n",
    "%autoreload 2\n",
    "%reload_ext autoreload\n",
    "import glob\n",
    "import os\n",
    "os.chdir(\"/Users/luisa/Desktop/nygc/cluster/projects/fl4tsf/bin\")\n",
    "\n",
    "import json\n",
    "import torch\n",
    "import pandas as pd\n",
    "from lib.plot import Visualizations\n",
    "from lib import utils\n",
    "from torch.utils.data import DataLoader\n",
    "from flower.get_dataset import get_dataset, basic_collate_fn\n",
    "from flower.task import Net\n",
    "import matplotlib.pyplot as plt\n",
    "device = torch.device(\"cuda\" if torch.cuda.is_available() else \"cpu\")\n"
   ]
  },
  {
   "cell_type": "markdown",
   "id": "c8016429",
   "metadata": {},
   "source": [
    "### Load global model and data"
   ]
  },
  {
   "cell_type": "code",
   "execution_count": 54,
   "id": "7b4f20e2",
   "metadata": {},
   "outputs": [],
   "source": [
    "#############################\n",
    "# Load Model and Weigths\n",
    "#############################\n",
    "\n",
    "weights_file = \"../results_centralized_hyperparam/periodic/centralized_training/300_epochs/lr_0.01-batchsize_16_clipping_False_lrdecay_1.0/model.pth\"\n",
    "weights = torch.load(weights_file, weights_only=True)\n",
    "model = Net()\n",
    "model.load_state_dict(weights)\n",
    "\n",
    "#############################\n",
    "# Load Dataset\n",
    "#############################\n",
    "test_dataset_filename = \"../data/periodic/periodic_test.pt\"\n",
    "time_steps_filename = \"../data/periodic/periodic_time_steps.pt\"\n",
    "time_steps = torch.load(time_steps_filename, weights_only=True)\n",
    "test_dataset = torch.load(test_dataset_filename, weights_only=True)\n",
    "\n"
   ]
  },
  {
   "cell_type": "code",
   "execution_count": 55,
   "id": "6c7068ce",
   "metadata": {},
   "outputs": [
    {
     "data": {
      "text/plain": [
       "<Figure size 640x480 with 0 Axes>"
      ]
     },
     "metadata": {},
     "output_type": "display_data"
    },
    {
     "data": {
      "image/png": "[encoded data removed]",
      "text/plain": [
       "<Figure size 300x200 with 1 Axes>"
      ]
     },
     "metadata": {},
     "output_type": "display_data"
    }
   ],
   "source": [
    "#############################\n",
    "# Plot one example\n",
    "#############################\n",
    "%matplotlib inline\n",
    "fig, ax = plt.subplots()\n",
    "fig.set_size_inches(3, 2)\n",
    "x = time_steps.squeeze()\n",
    "y = test_dataset[0].squeeze()\n",
    "plt.plot(x, y)\n",
    "plt.show()\n"
   ]
  },
  {
   "cell_type": "code",
   "execution_count": null,
   "id": "cd5f9403",
   "metadata": {},
   "outputs": [
    {
     "data": {
      "text/plain": [
       "{'observed_data': tensor([[[1.0882],\n",
       "          [0.0000],\n",
       "          [1.5613],\n",
       "          ...,\n",
       "          [0.0000],\n",
       "          [0.0000],\n",
       "          [1.6493]],\n",
       " \n",
       "         [[0.0000],\n",
       "          [1.2803],\n",
       "          [1.6044],\n",
       "          ...,\n",
       "          [0.0451],\n",
       "          [0.0489],\n",
       "          [0.1163]],\n",
       " \n",
       "         [[0.9652],\n",
       "          [0.0000],\n",
       "          [0.0000],\n",
       "          ...,\n",
       "          [1.5453],\n",
       "          [0.0000],\n",
       "          [1.3313]],\n",
       " \n",
       "         ...,\n",
       " \n",
       "         [[0.0000],\n",
       "          [1.2373],\n",
       "          [1.5177],\n",
       "          ...,\n",
       "          [1.5049],\n",
       "          [1.5876],\n",
       "          [0.0000]],\n",
       " \n",
       "         [[0.0000],\n",
       "          [0.0000],\n",
       "          [0.0000],\n",
       "          ...,\n",
       "          [0.0000],\n",
       "          [0.0000],\n",
       "          [1.0304]],\n",
       " \n",
       "         [[1.0052],\n",
       "          [0.0000],\n",
       "          [1.4023],\n",
       "          ...,\n",
       "          [0.5380],\n",
       "          [0.4686],\n",
       "          [0.3260]]]),\n",
       " 'observed_tp': tensor([0.0000, 0.0487, 0.1238, 0.1394, 0.2040, 0.2555, 0.3677, 0.4009, 0.4175,\n",
       "         0.4379, 0.4626, 0.4692, 0.4772, 0.5110, 0.6382, 0.6682, 0.7299, 0.7517,\n",
       "         0.8569, 0.8602, 0.9009, 0.9754, 0.9883, 1.0178, 1.0352, 1.0437, 1.0451,\n",
       "         1.1861, 1.1925, 1.2494, 1.2495, 1.2644, 1.5074, 1.5412, 1.5682, 1.5712,\n",
       "         1.5950, 1.6083, 1.7123, 1.7375, 1.8395, 1.8570, 1.8576, 1.9274, 1.9274,\n",
       "         2.1597, 2.3660, 2.3706, 2.4328, 2.5029, 2.5031, 2.5164, 2.5956, 2.7085,\n",
       "         2.7249, 2.7521, 2.8603, 2.8664, 2.9426, 2.9455, 3.0247, 3.0285, 3.0457,\n",
       "         3.1320, 3.1497, 3.1901, 3.2984, 3.3479, 3.4338, 3.4636, 3.4762, 3.5579,\n",
       "         3.5674, 3.6716, 3.7367, 3.7718, 3.8234, 3.8353, 3.8632, 4.0317, 4.0790,\n",
       "         4.1093, 4.1106, 4.2081, 4.2081, 4.2722, 4.2839, 4.2845, 4.4164, 4.4178,\n",
       "         4.4696, 4.5261, 4.5827, 4.6300, 4.6417, 4.7418, 4.8129, 4.9148, 4.9386,\n",
       "         4.9946]),\n",
       " 'data_to_predict': tensor([[[1.0882],\n",
       "          [1.2805],\n",
       "          [1.5613],\n",
       "          ...,\n",
       "          [1.3600],\n",
       "          [1.4496],\n",
       "          [1.6493]],\n",
       " \n",
       "         [[1.0415],\n",
       "          [1.2803],\n",
       "          [1.6044],\n",
       "          ...,\n",
       "          [0.0451],\n",
       "          [0.0489],\n",
       "          [0.1163]],\n",
       " \n",
       "         [[0.9652],\n",
       "          [1.1160],\n",
       "          [1.3420],\n",
       "          ...,\n",
       "          [1.5453],\n",
       "          [1.4847],\n",
       "          [1.3313]],\n",
       " \n",
       "         ...,\n",
       " \n",
       "         [[1.0442],\n",
       "          [1.2373],\n",
       "          [1.5177],\n",
       "          ...,\n",
       "          [1.5049],\n",
       "          [1.5876],\n",
       "          [1.7564]],\n",
       " \n",
       "         [[0.9522],\n",
       "          [1.1137],\n",
       "          [1.3356],\n",
       "          ...,\n",
       "          [1.2814],\n",
       "          [1.2017],\n",
       "          [1.0304]],\n",
       " \n",
       "         [[1.0052],\n",
       "          [1.1713],\n",
       "          [1.4023],\n",
       "          ...,\n",
       "          [0.5380],\n",
       "          [0.4686],\n",
       "          [0.3260]]]),\n",
       " 'tp_to_predict': tensor([0.0000, 0.0487, 0.1238, 0.1394, 0.2040, 0.2555, 0.3677, 0.4009, 0.4175,\n",
       "         0.4379, 0.4626, 0.4692, 0.4772, 0.5110, 0.6382, 0.6682, 0.7299, 0.7517,\n",
       "         0.8569, 0.8602, 0.9009, 0.9754, 0.9883, 1.0178, 1.0352, 1.0437, 1.0451,\n",
       "         1.1861, 1.1925, 1.2494, 1.2495, 1.2644, 1.5074, 1.5412, 1.5682, 1.5712,\n",
       "         1.5950, 1.6083, 1.7123, 1.7375, 1.8395, 1.8570, 1.8576, 1.9274, 1.9274,\n",
       "         2.1597, 2.3660, 2.3706, 2.4328, 2.5029, 2.5031, 2.5164, 2.5956, 2.7085,\n",
       "         2.7249, 2.7521, 2.8603, 2.8664, 2.9426, 2.9455, 3.0247, 3.0285, 3.0457,\n",
       "         3.1320, 3.1497, 3.1901, 3.2984, 3.3479, 3.4338, 3.4636, 3.4762, 3.5579,\n",
       "         3.5674, 3.6716, 3.7367, 3.7718, 3.8234, 3.8353, 3.8632, 4.0317, 4.0790,\n",
       "         4.1093, 4.1106, 4.2081, 4.2081, 4.2722, 4.2839, 4.2845, 4.4164, 4.4178,\n",
       "         4.4696, 4.5261, 4.5827, 4.6300, 4.6417, 4.7418, 4.8129, 4.9148, 4.9386,\n",
       "         4.9946]),\n",
       " 'observed_mask': tensor([[[1.],\n",
       "          [0.],\n",
       "          [1.],\n",
       "          ...,\n",
       "          [0.],\n",
       "          [0.],\n",
       "          [1.]],\n",
       " \n",
       "         [[0.],\n",
       "          [1.],\n",
       "          [1.],\n",
       "          ...,\n",
       "          [1.],\n",
       "          [1.],\n",
       "          [1.]],\n",
       " \n",
       "         [[1.],\n",
       "          [0.],\n",
       "          [0.],\n",
       "          ...,\n",
       "          [1.],\n",
       "          [0.],\n",
       "          [1.]],\n",
       " \n",
       "         ...,\n",
       " \n",
       "         [[0.],\n",
       "          [1.],\n",
       "          [1.],\n",
       "          ...,\n",
       "          [1.],\n",
       "          [1.],\n",
       "          [0.]],\n",
       " \n",
       "         [[0.],\n",
       "          [0.],\n",
       "          [0.],\n",
       "          ...,\n",
       "          [0.],\n",
       "          [0.],\n",
       "          [1.]],\n",
       " \n",
       "         [[1.],\n",
       "          [0.],\n",
       "          [1.],\n",
       "          ...,\n",
       "          [1.],\n",
       "          [1.],\n",
       "          [1.]]]),\n",
       " 'mask_predicted_data': None,\n",
       " 'labels': None,\n",
       " 'mode': 'interp'}"
      ]
     },
     "execution_count": 58,
     "metadata": {},
     "output_type": "execute_result"
    }
   ],
   "source": [
    "test_dict"
   ]
  },
  {
   "cell_type": "code",
   "execution_count": 57,
   "id": "1055ae71",
   "metadata": {},
   "outputs": [
    {
     "data": {
      "image/png": "[encoded data removed]",
      "text/plain": [
       "<Figure size 1200x700 with 6 Axes>"
      ]
     },
     "metadata": {},
     "output_type": "display_data"
    }
   ],
   "source": [
    "batch_size = 16\n",
    "\n",
    "dataset_name = \"periodic\"\n",
    "sample_tp = 0.5\n",
    "cut_tp = None\n",
    "extrap = False\n",
    "experimentID = 10\n",
    "\n",
    "testloader = DataLoader(test_dataset, batch_size = batch_size, shuffle=False,\n",
    "\tcollate_fn= lambda batch: basic_collate_fn(batch, test_timestamps, dataset_name, sample_tp, cut_tp, extrap, data_type = \"test\"))\n",
    "testloader = utils.inf_generator(testloader)\n",
    "test_dict = utils.get_next_batch(testloader)\n",
    "viz = Visualizations(device)\n",
    "with torch.no_grad():\n",
    "\tviz.draw_all_plots_one_dim( test_dict,\n",
    "\t\t\t\t\t\t\t\tmodel,\n",
    "\t\t\t\t\t\t\t\tplot_name = \"Test.png\",\n",
    "\t\t\t\t\t\t\t\texperimentID = 11,\n",
    "\t\t\t\t\t\t\t\tsave=False)"
   ]
  },
  {
   "cell_type": "code",
   "execution_count": null,
   "id": "389318b7",
   "metadata": {},
   "outputs": [],
   "source": []
  }
 ],
 "metadata": {
  "kernelspec": {
   "display_name": "base",
   "language": "python",
   "name": "python3"
  },
  "language_info": {
   "codemirror_mode": {
    "name": "ipython",
    "version": 3
   },
   "file_extension": ".py",
   "mimetype": "text/x-python",
   "name": "python",
   "nbconvert_exporter": "python",
   "pygments_lexer": "ipython3",
   "version": "3.12.7"
  }
 },
 "nbformat": 4,
 "nbformat_minor": 5
}
