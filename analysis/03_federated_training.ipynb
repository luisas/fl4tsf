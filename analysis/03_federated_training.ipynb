{
 "cells": [
  {
   "cell_type": "markdown",
   "id": "f4a77b00",
   "metadata": {},
   "source": [
    "# Federated learning monitoring"
   ]
  },
  {
   "cell_type": "markdown",
   "id": "2065f484",
   "metadata": {},
   "source": [
    "### Check how FedAvg is doing at its best \n",
    "- Sanity check for federated setup \n",
    "- Baseline for improvement strategies"
   ]
  },
  {
   "cell_type": "code",
   "execution_count": 86,
   "id": "fc68c85f",
   "metadata": {},
   "outputs": [],
   "source": [
    "import torch\n",
    "import pandas as pd\n",
    "import matplotlib.pyplot as plt\n",
    "import seaborn as sns\n",
    "import glob\n",
    "import numpy as np\n",
    "import json\n",
    "import os\n",
    "# set cwd\n",
    "os.chdir(\"/Users/luisa/Desktop/nygc/cluster/projects/fl4tsf/analysis\")"
   ]
  },
  {
   "cell_type": "code",
   "execution_count": 92,
   "id": "419ed36d",
   "metadata": {},
   "outputs": [
    {
     "data": {
      "text/plain": [
       "['../results_federated_learningtest/periodic/federated_training/FedAvg/25_rounds/rep_1-alpha_0.5-lr_0.01-batchsize_32_clipping_False_lrdecay_0.01_localepochs_5/federated_outputs/results.json',\n",
       " '../results_federated_learningtest/periodic/federated_training/FedAvg/25_rounds/rep_1-alpha_0.5-lr_0.01-batchsize_32_clipping_False_lrdecay_0.01_localepochs_3/federated_outputs/results.json']"
      ]
     },
     "execution_count": 92,
     "metadata": {},
     "output_type": "execute_result"
    }
   ],
   "source": [
    "fed_avg = glob.glob(f\"../results_federated_learningtest/**/federated_training/FedAvg/25_rounds/**/results.json\", recursive=True)\n",
    "fed_avg"
   ]
  },
  {
   "cell_type": "code",
   "execution_count": 93,
   "id": "d56d4521",
   "metadata": {},
   "outputs": [],
   "source": [
    "def read_loss_file(file):\n",
    "    # Read the meta.csv file\n",
    "    meta_file = file.replace(\"results.json\", \"meta.csv\")\n",
    "    meta_data = pd.read_csv(meta_file)\n",
    "    lr = meta_data['lr'].item()\n",
    "    batch_size = meta_data['batch_size'].item()\n",
    "    clipping = meta_data['gradientclipping'].item()\n",
    "    lrdecay = meta_data['lrdecay'].item()\n",
    "    nlocalepochs = meta_data['localepochs'].item()\n",
    "    \n",
    "    # Read the results.json file\n",
    "    with open(file, 'r') as f:\n",
    "        data = json.load(f)\n",
    "    \n",
    "    # Plot centralized evaluate\n",
    "    df_centralized_evaluate = pd.DataFrame(data['centralized_evaluate'])\n",
    "    df_federated_evaluate = pd.DataFrame(data['federated_evaluate'])\n",
    "    # Add the learning rate to the DataFrame\n",
    "    df_federated_evaluate['lr'] = lr\n",
    "    df_centralized_evaluate['lr'] = lr\n",
    "    # Add the batch size to the DataFrame\n",
    "    df_federated_evaluate['batch_size'] = batch_size\n",
    "    df_centralized_evaluate['batch_size'] = batch_size\n",
    "    # Add the clipping to the DataFrame\n",
    "    df_federated_evaluate['clipping'] = clipping\n",
    "    df_centralized_evaluate['clipping'] = clipping\n",
    "    # add decay\n",
    "    df_federated_evaluate['lrdecay'] = lrdecay\n",
    "    df_centralized_evaluate['lrdecay'] = lrdecay\n",
    "    # add nlocalepochs\n",
    "    df_federated_evaluate['localepochs'] = nlocalepochs\n",
    "    df_centralized_evaluate['localepochs'] = nlocalepochs\n",
    "\n",
    "    # Aggregation column \n",
    "    # Check if file contins \"FedAvg\" in the path name\n",
    "    if \"FedAvg\" in file:\n",
    "        # if the path name contains \"FedAvg\" then add aggregation column \"FedAvg\"\n",
    "        df_federated_evaluate['aggregation'] = \"FedAvg\"\n",
    "        df_centralized_evaluate['aggregation'] = \"FedAvg\"\n",
    "    else:\n",
    "        # if the path name does not contain \"FedAvg\" then add aggregation column \"FedProx\"\n",
    "        df_federated_evaluate['aggregation'] = \"FedODE\"\n",
    "        df_centralized_evaluate['aggregation'] = \"FedODE\"\n",
    "\n",
    "\n",
    "    # if the path name contains \"FedAvg\" then add aggregation column \"FedAvg\"\n",
    "    df_federated_evaluate['hyperparameters'] = df_federated_evaluate.apply(lambda x: f\"lr: {x['lr']}, batch_size: {x['batch_size']}, clipping: {x['clipping']}, lrdecay: {x['lrdecay']}, nlocalepochs: {x['localepochs']}\", axis=1)\n",
    "    df_centralized_evaluate['hyperparameters'] = df_centralized_evaluate.apply(lambda x: f\"lr: {x['lr']}, batch_size: {x['batch_size']}, clipping: {x['clipping']}, lrdecay: {x['lrdecay']}, nlocalepochs: {x['localepochs']}\", axis=1)\n",
    "    # combine lr, batch size and clipping into one column\n",
    "\n",
    "    df_federated_evaluate['type'] = \"federated\"\n",
    "    df_centralized_evaluate['type'] = \"centralized\"\n",
    "\n",
    "    # modify centralized_loss into loss\n",
    "    df_centralized_evaluate.rename(columns={'centralized_loss': 'loss'}, inplace=True)\n",
    "    # modify federated_loss into loss\n",
    "    df_federated_evaluate.rename(columns={'federated_evaluate_loss': 'loss'}, inplace=True)\n",
    "\n",
    "    return df_centralized_evaluate, df_federated_evaluate"
   ]
  },
  {
   "cell_type": "code",
   "execution_count": 94,
   "id": "4b168722",
   "metadata": {},
   "outputs": [],
   "source": [
    "df_centralized_evaluate = pd.DataFrame()\n",
    "df_federated_evaluate = pd.DataFrame()\n",
    "for file in fed_avg:\n",
    "    df_centralized_evaluate_temp, df_federated_evaluate_temp = read_loss_file(file)\n",
    "    df_centralized_evaluate = pd.concat([df_centralized_evaluate, df_centralized_evaluate_temp])\n",
    "    df_federated_evaluate = pd.concat([df_federated_evaluate, df_federated_evaluate_temp])\n",
    "# plot the loss\n",
    "# plot the loss by hyperparameters\n",
    "# merge the two dataframes\n",
    "# append dataframes\n",
    "df = pd.concat([df_centralized_evaluate, df_federated_evaluate])\n",
    "#df"
   ]
  },
  {
   "cell_type": "code",
   "execution_count": 95,
   "id": "be4682b2",
   "metadata": {},
   "outputs": [],
   "source": [
    "# cut at 25 rounds\n",
    "df = df[df['round'] <= 25]"
   ]
  },
  {
   "cell_type": "code",
   "execution_count": 96,
   "id": "b28de589",
   "metadata": {},
   "outputs": [
    {
     "data": {
      "image/png": "[encoded data removed]",
      "text/plain": [
       "<Figure size 851.736x250 with 2 Axes>"
      ]
     },
     "metadata": {},
     "output_type": "display_data"
    }
   ],
   "source": [
    "import seaborn as sns\n",
    "import matplotlib.pyplot as plt\n",
    "\n",
    "# Filter only the rows relevant for loss comparison\n",
    "loss_df = df[df['type'].isin([\"centralized\", \"federated\"])]\n",
    "\n",
    "# Create FacetGrid\n",
    "g = sns.FacetGrid(\n",
    "    loss_df,\n",
    "    col=\"type\",\n",
    "    height=2.5,\n",
    "    aspect=1.5,  # Width = height * aspect\n",
    "    sharey=True\n",
    ")\n",
    "\n",
    "# Map the lineplot onto the grid\n",
    "g.map_dataframe(\n",
    "    sns.lineplot,\n",
    "    x='round',\n",
    "    y='loss',\n",
    "    hue='localepochs',\n",
    "    palette='tab10'\n",
    ")\n",
    "\n",
    "# Adjustments\n",
    "g.set_axis_labels(\"Round\", \"Loss\")\n",
    "g.set_titles(\"{col_name} training loss\")\n",
    "g.set(ylim=(0, None))\n",
    "\n",
    "# Set x-ticks\n",
    "for ax in g.axes.flat:\n",
    "    ax.set_xticks(range(0, df['round'].max() + 1, 25))\n",
    "\n",
    "# Move legend outside\n",
    "g.add_legend(title = \"nlocalepochs\")\n",
    "g._legend.set_bbox_to_anchor((1.05, 0.5))\n",
    "g._legend.set_loc(\"center left\")\n",
    "\n",
    "plt.tight_layout()\n",
    "plt.show()\n"
   ]
  },
  {
   "cell_type": "markdown",
   "id": "2feaabd8",
   "metadata": {},
   "source": [
    "# Zoom in into the clients"
   ]
  },
  {
   "cell_type": "code",
   "execution_count": 82,
   "id": "fd2444c8",
   "metadata": {},
   "outputs": [],
   "source": [
    "def plot_client_loss(file):\n",
    "\n",
    "    # Load JSON file\n",
    "    with open(file, \"r\") as f:\n",
    "        data = json.load(f)\n",
    "\n",
    "\n",
    "    # Extract loss values, rounds, and epochs\n",
    "    loss_values = []\n",
    "    rounds = []\n",
    "    epochs = []\n",
    "\n",
    "    epoch_count = 0  # To keep track of epochs\n",
    "\n",
    "    for entry in data[\"client_train\"]:\n",
    "        round_number = entry[\"round\"]\n",
    "        for loss in entry[\"train_loss\"]:\n",
    "            rounds.append(round_number)\n",
    "            loss_values.append(loss)\n",
    "            epochs.append(epoch_count)\n",
    "            epoch_count += 1\n",
    "\n",
    "    # Cut at 25 rounds\n",
    "    epochs = epochs[:100]\n",
    "    loss_values = loss_values[:100]\n",
    "    rounds = rounds[:100]\n",
    "\n",
    "    # make it smaller \n",
    "    plt.figure(figsize=(10, 2.5))\n",
    "    # Plot loss values sequentially across rounds and epochs\n",
    "    plt.plot(epochs, loss_values, marker='o', label=\"Loss across epochs\")\n",
    "\n",
    "\n",
    "    # Add vertical lines for each round number\n",
    "    for round_number in set(rounds):\n",
    "        round_epochs = [i for i, r in enumerate(rounds) if r == round_number]\n",
    "        if round_epochs:\n",
    "            # Place a vertical line at the first epoch of each round\n",
    "            # if it is not the first round\n",
    "            if round_number != 0:\n",
    "                plt.axvline(x=round_epochs[0], color='grey', linestyle='--', label=f\"Round {round_number}\")\n",
    "\n",
    "    # Customize x-axis ticks to represent rounds\n",
    "    xticks = [i for i, round_number in enumerate(rounds) if i == 0 or rounds[i] != rounds[i-1]]\n",
    "    plt.xticks(xticks, [rounds[i] for i in xticks])\n",
    "    # log scale y \n",
    "\n",
    "    plt.ylim(bottom=0)\n",
    "    plt.xlabel(\"Round\")\n",
    "    plt.ylabel(\"Local Loss (log scale)\")\n",
    "    plt.tight_layout()\n",
    "    plt.show()\n"
   ]
  },
  {
   "cell_type": "code",
   "execution_count": 83,
   "id": "71fc7c8d",
   "metadata": {},
   "outputs": [
    {
     "data": {
      "text/plain": [
       "[['../results_federated_learningtest/periodic/federated_training/FedAvg/100_rounds/rep_1-alpha_0.5-lr_0.01-batchsize_16_clipping_False_lrdecay_1.0_localepochs_5/federated_outputs/results_0.json',\n",
       "  '../results_federated_learningtest/periodic/federated_training/FedAvg/100_rounds/rep_1-alpha_0.5-lr_0.01-batchsize_16_clipping_False_lrdecay_1.0_localepochs_5/federated_outputs/results_1.json'],\n",
       " ['../results_federated_learningtest/periodic/federated_training/FedAvg/100_rounds/rep_1-alpha_0.5-lr_0.01-batchsize_16_clipping_False_lrdecay_1.0_localepochs_3/federated_outputs/results_0.json',\n",
       "  '../results_federated_learningtest/periodic/federated_training/FedAvg/100_rounds/rep_1-alpha_0.5-lr_0.01-batchsize_16_clipping_False_lrdecay_1.0_localepochs_3/federated_outputs/results_1.json'],\n",
       " ['../results_federated_learningtest/periodic/federated_training/FedAvg/100_rounds/rep_1-alpha_0.5-lr_0.01-batchsize_16_clipping_False_lrdecay_1.0_localepochs_10/federated_outputs/results_0.json',\n",
       "  '../results_federated_learningtest/periodic/federated_training/FedAvg/100_rounds/rep_1-alpha_0.5-lr_0.01-batchsize_16_clipping_False_lrdecay_1.0_localepochs_10/federated_outputs/results_1.json']]"
      ]
     },
     "execution_count": 83,
     "metadata": {},
     "output_type": "execute_result"
    }
   ],
   "source": [
    "files = [f.replace(\"results.json\", \"\") for f in fed_avg]\n",
    "files = [f + \"results_*.json\" for f in files]\n",
    "files = [glob.glob(f, recursive=True) for f in files]\n",
    "files"
   ]
  },
  {
   "cell_type": "code",
   "execution_count": 84,
   "id": "8d0a748f",
   "metadata": {},
   "outputs": [
    {
     "data": {
      "text/plain": [
       "'../results_federated_learningtest/periodic/federated_training/FedAvg/100_rounds/rep_1-alpha_0.5-lr_0.01-batchsize_16_clipping_False_lrdecay_1.0_localepochs_10/federated_outputs/results_1.json'"
      ]
     },
     "execution_count": 84,
     "metadata": {},
     "output_type": "execute_result"
    }
   ],
   "source": [
    "files[2][1]"
   ]
  },
  {
   "cell_type": "code",
   "execution_count": 85,
   "id": "b9062c55",
   "metadata": {},
   "outputs": [
    {
     "data": {
      "image/png": "[encoded data removed]",
      "text/plain": [
       "<Figure size 1000x250 with 1 Axes>"
      ]
     },
     "metadata": {},
     "output_type": "display_data"
    }
   ],
   "source": [
    "plot_client_loss(files[2][1])"
   ]
  },
  {
   "cell_type": "code",
   "execution_count": null,
   "id": "e90b78b5",
   "metadata": {},
   "outputs": [],
   "source": []
  }
 ],
 "metadata": {
  "kernelspec": {
   "display_name": "base",
   "language": "python",
   "name": "python3"
  },
  "language_info": {
   "codemirror_mode": {
    "name": "ipython",
    "version": 3
   },
   "file_extension": ".py",
   "mimetype": "text/x-python",
   "name": "python",
   "nbconvert_exporter": "python",
   "pygments_lexer": "ipython3",
   "version": "3.12.7"
  }
 },
 "nbformat": 4,
 "nbformat_minor": 5
}
