{
 "cells": [
  {
   "cell_type": "markdown",
   "id": "bdde5cbd",
   "metadata": {},
   "source": [
    "# Subset ECG dataset"
   ]
  },
  {
   "cell_type": "code",
   "execution_count": 1,
   "id": "57c17ad4",
   "metadata": {},
   "outputs": [
    {
     "name": "stderr",
     "output_type": "stream",
     "text": [
      "2025-07-01 15:44:40,928\tINFO util.py:154 -- Outdated packages:\n",
      "  ipywidgets==7.8.1 found, needs ipywidgets>=8\n",
      "Run `pip install -U ipywidgets`, then restart the notebook server for rich notebook output.\n"
     ]
    }
   ],
   "source": [
    "import os\n",
    "import sys\n",
    "os.chdir(\"/Users/luisa/Desktop/nygc/cluster/projects/fl4tsf/bin\")\n",
    "sys.path.append(os.getcwd()) \n",
    "import torch\n",
    "\n",
    "from flower.task import Net, train\n",
    "import torch\n",
    "from torch.utils.data import DataLoader\n",
    "from lib.dataset_utils import *\n",
    "%matplotlib inline\n",
    "%load_ext autoreload\n",
    "%autoreload 2\n",
    "from lib.physionet import PhysioNet, variable_time_collate_fn, get_data_min_max\n",
    "from sklearn import model_selection\n",
    "from torch.utils.data import DataLoader\n",
    "from lib import utils\n",
    "from lib.dataset_utils import store_dataset_physionet\n",
    "\n",
    "path_prefix = \"/Users/luisa/Desktop/nygc/cluster/projects/fl4tsf/data\"\n",
    "prefix = \"physionet\"\n",
    "batch_size = 64\n",
    "classif = False\n",
    "noise_weight = 0.1\n",
    "max_t_extrap = 5\n",
    "n_total_tp = 100\n",
    "device = torch.device(\"cuda\" if torch.cuda.is_available() else \"cpu\")\n",
    "amp_start = 1.0\n",
    "amp_end = 1.0 \n",
    "freq_start =1.0\n",
    "freq_end = freq_start\n",
    "epochs = 5\n",
    "batch_size = 3\n",
    "sample_tp = 0.9\n",
    "n_samples = 4\n",
    "max_t_extrap = 50\n",
    "lr_val = 0.01\n",
    "cut_tp = None\n",
    "extrap = None\n",
    "\n",
    "from types import SimpleNamespace\n",
    "args = SimpleNamespace()\n",
    "args.sample_tp = 0\n",
    "args.cut_tp = None\n",
    "args.extrap = None"
   ]
  },
  {
   "cell_type": "code",
   "execution_count": 8,
   "id": "1fc5e8e1",
   "metadata": {},
   "outputs": [],
   "source": [
    "res_folders = [\"ecg_physionet_level0_iid\"]"
   ]
  },
  {
   "cell_type": "code",
   "execution_count": 9,
   "id": "38c66854",
   "metadata": {},
   "outputs": [
    {
     "name": "stdout",
     "output_type": "stream",
     "text": [
      "Processing ecg_physionet_level0_iid\n",
      "Loaded data for ecg_physionet_level0_iid\n",
      "Getting data min and max devices:  cpu\n",
      "Getting data min and max devices:  cpu\n"
     ]
    }
   ],
   "source": [
    "path_prefix = \"/Users/luisa/Desktop/nygc/cluster/projects/fl4tsf/data\"\n",
    "prefix = \"ecg_subset\"\n",
    "\n",
    "for res_folder in res_folders:\n",
    "    print(f\"Processing {res_folder}\")\n",
    "    data_train_0 = torch.load(f\"/Users/luisa/Desktop/nygc/data_test/{res_folder}/client_0_train.pt\", weights_only=False)\n",
    "    data_test_0 = torch.load(f\"/Users/luisa/Desktop/nygc/data_test/{res_folder}/client_0_test.pt\", weights_only=False)\n",
    "    data_train_1 = torch.load(f\"/Users/luisa/Desktop/nygc/data_test/{res_folder}/client_1_train.pt\", weights_only=False)\n",
    "    data_test_1 = torch.load(f\"/Users/luisa/Desktop/nygc/data_test/{res_folder}/client_1_test.pt\", weights_only=False)\n",
    "    print(f\"Loaded data for {res_folder}\")\n",
    "    train_data_0 = data_train_0[:100]\n",
    "    test_data_0 = data_test_0[:20]\n",
    "    total_0 = train_data_0 + test_data_0\n",
    "    data_min_0, data_max_0 = get_data_min_max(total_0)\n",
    "    train_data_1 = data_train_1[:100]\n",
    "    test_data_1 = data_test_1[:20]\n",
    "    total_1 = train_data_1 + test_data_1\n",
    "    data_min_1, data_max_1 = get_data_min_max(total_1)\n",
    "\n",
    "    store_dataset_physionet(train_data_0, test_data_0, dataset_prefix=prefix, path_prefix=path_prefix, client_prefix=f\"client_0\")\n",
    "    store_dataset_physionet(train_data_1, test_data_1, dataset_prefix=prefix, path_prefix=path_prefix, client_prefix=f\"client_1\")\n",
    "    torch.save(data_min_0, f\"{path_prefix}/{prefix}/client_0_data_min.pt\")\n",
    "    torch.save(data_max_0, f\"{path_prefix}/{prefix}/client_0_data_max.pt\")\n",
    "    torch.save(data_min_1, f\"{path_prefix}/{prefix}/client_1_data_min.pt\")\n",
    "    torch.save(data_max_1, f\"{path_prefix}/{prefix}/client_1_data_max.pt\")"
   ]
  }
 ],
 "metadata": {
  "kernelspec": {
   "display_name": "base",
   "language": "python",
   "name": "python3"
  },
  "language_info": {
   "codemirror_mode": {
    "name": "ipython",
    "version": 3
   },
   "file_extension": ".py",
   "mimetype": "text/x-python",
   "name": "python",
   "nbconvert_exporter": "python",
   "pygments_lexer": "ipython3",
   "version": "3.12.7"
  }
 },
 "nbformat": 4,
 "nbformat_minor": 5
}
