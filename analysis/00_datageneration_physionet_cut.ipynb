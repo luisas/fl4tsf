{
 "cells": [
  {
   "cell_type": "markdown",
   "id": "c44b5c36",
   "metadata": {},
   "source": [
    "# Cut physionet dataset so that we have different time intervals"
   ]
  },
  {
   "cell_type": "code",
   "execution_count": 1,
   "id": "351a61ae",
   "metadata": {},
   "outputs": [
    {
     "name": "stderr",
     "output_type": "stream",
     "text": [
      "2025-07-01 17:06:08,994\tINFO util.py:154 -- Outdated packages:\n",
      "  ipywidgets==7.8.1 found, needs ipywidgets>=8\n",
      "Run `pip install -U ipywidgets`, then restart the notebook server for rich notebook output.\n"
     ]
    }
   ],
   "source": [
    "import os\n",
    "import sys\n",
    "os.chdir(\"/Users/luisa/Desktop/nygc/cluster/projects/fl4tsf/bin\")\n",
    "sys.path.append(os.getcwd()) \n",
    "import torch\n",
    "\n",
    "from flower.task import Net, train\n",
    "import torch\n",
    "from torch.utils.data import DataLoader\n",
    "from lib.dataset_utils import *\n",
    "%matplotlib inline\n",
    "%load_ext autoreload\n",
    "%autoreload 2\n",
    "from lib.physionet import PhysioNet, variable_time_collate_fn, get_data_min_max\n",
    "from sklearn import model_selection\n",
    "from torch.utils.data import DataLoader\n",
    "from lib import utils\n",
    "from lib.dataset_utils import store_dataset_physionet\n",
    "\n",
    "path_prefix = \"/Users/luisa/Desktop/nygc/cluster/projects/fl4tsf/data\"\n",
    "prefix = \"physionet\"\n",
    "batch_size = 64\n",
    "classif = False\n",
    "noise_weight = 0.1\n",
    "max_t_extrap = 5\n",
    "n_total_tp = 100\n",
    "device = torch.device(\"cuda\" if torch.cuda.is_available() else \"cpu\")\n",
    "amp_start = 1.0\n",
    "amp_end = 1.0 \n",
    "freq_start =1.0\n",
    "freq_end = freq_start\n",
    "epochs = 5\n",
    "batch_size = 3\n",
    "sample_tp = 0.9\n",
    "n_samples = 4\n",
    "max_t_extrap = 50\n",
    "lr_val = 0.01\n",
    "cut_tp = None\n",
    "extrap = None\n",
    "\n",
    "from types import SimpleNamespace\n",
    "args = SimpleNamespace()\n",
    "args.sample_tp = 0\n",
    "args.cut_tp = None\n",
    "args.extrap = None"
   ]
  },
  {
   "cell_type": "code",
   "execution_count": 4,
   "id": "b9b2004a",
   "metadata": {},
   "outputs": [],
   "source": [
    "# Load physionet\n",
    "data_train_0 = torch.load(f\"/Users/luisa/Desktop/nygc/cluster/projects/fl4tsf/data/physionet_filtered/client_0_train.pt\", weights_only=False)\n",
    "data_test_0 = torch.load(f\"/Users/luisa/Desktop/nygc/cluster/projects/fl4tsf/data/physionet_filtered/client_0_test.pt\", weights_only=False)\n",
    "data_train_1 = torch.load(f\"/Users/luisa/Desktop/nygc/cluster/projects/fl4tsf/data/physionet_filtered/client_1_train.pt\", weights_only=False)\n",
    "data_test_1 = torch.load(f\"/Users/luisa/Desktop/nygc/cluster/projects/fl4tsf/data/physionet_filtered/client_1_test.pt\", weights_only=False)"
   ]
  },
  {
   "cell_type": "code",
   "execution_count": 22,
   "id": "a2e0e240",
   "metadata": {},
   "outputs": [],
   "source": [
    "# in client 0 we cut the amount of time to the first 20\n",
    "\n",
    "def subset(data_train_0):\n",
    "    new_data_train_0 = []\n",
    "    for i in range(len(data_train_0)):\n",
    "        id = data_train_0[i][0]\n",
    "        x = data_train_0[i][1]\n",
    "        y = data_train_0[i][2]\n",
    "        mask = data_train_0[i][3]\n",
    "        label = data_train_0[i][4]\n",
    "        new_data_train_0.append((id, x[:20], y[:20], mask[:20], label))\n",
    "    return new_data_train_0\n",
    "\n"
   ]
  },
  {
   "cell_type": "code",
   "execution_count": 24,
   "id": "2cf6b985",
   "metadata": {},
   "outputs": [],
   "source": [
    "# subset all data\n",
    "new_data_train_0 = subset(data_train_0)\n",
    "new_data_test_0 = subset(data_test_0)\n",
    "new_data_train_1 = subset(data_train_1)\n",
    "new_data_test_1 = subset(data_test_1)\n",
    "\n",
    "total_dataset = new_data_train_0 + new_data_test_0 + new_data_train_1 + new_data_test_1"
   ]
  },
  {
   "cell_type": "code",
   "execution_count": 25,
   "id": "4817f9c9",
   "metadata": {},
   "outputs": [
    {
     "name": "stdout",
     "output_type": "stream",
     "text": [
      "Getting data min and max devices:  cpu\n"
     ]
    }
   ],
   "source": [
    "data_min, data_max = get_data_min_max(total_dataset)"
   ]
  },
  {
   "cell_type": "markdown",
   "id": "2c4f6e84",
   "metadata": {},
   "source": [
    "## Load dataset "
   ]
  },
  {
   "cell_type": "code",
   "execution_count": 26,
   "id": "2c18c5ee",
   "metadata": {},
   "outputs": [],
   "source": [
    "#################################################################\n",
    "# Physionet Dataset - STORE\n",
    "#################################################################\n",
    "path_prefix = \"/Users/luisa/Desktop/nygc/cluster/projects/fl4tsf/data\"\n",
    "prefix = \"physionet_cut\"\n",
    "\n",
    "\n",
    "store_dataset_physionet(new_data_train_0, new_data_test_0, dataset_prefix=prefix, path_prefix=path_prefix, client_prefix=f\"client_0\")\n",
    "store_dataset_physionet(new_data_train_1, new_data_test_1, dataset_prefix=prefix, path_prefix=path_prefix, client_prefix=f\"client_1\")\n",
    "torch.save(data_min, f\"{path_prefix}/{prefix}/client_0_data_min.pt\")\n",
    "torch.save(data_max, f\"{path_prefix}/{prefix}/client_0_data_max.pt\")\n",
    "torch.save(data_min, f\"{path_prefix}/{prefix}/client_1_data_min.pt\")\n",
    "torch.save(data_max, f\"{path_prefix}/{prefix}/client_1_data_max.pt\")"
   ]
  }
 ],
 "metadata": {
  "kernelspec": {
   "display_name": "base",
   "language": "python",
   "name": "python3"
  },
  "language_info": {
   "codemirror_mode": {
    "name": "ipython",
    "version": 3
   },
   "file_extension": ".py",
   "mimetype": "text/x-python",
   "name": "python",
   "nbconvert_exporter": "python",
   "pygments_lexer": "ipython3",
   "version": "3.12.7"
  }
 },
 "nbformat": 4,
 "nbformat_minor": 5
}
