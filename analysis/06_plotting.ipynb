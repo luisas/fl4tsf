{
 "cells": [
  {
   "cell_type": "markdown",
   "id": "2585b0ac",
   "metadata": {},
   "source": [
    "# Play with plotting latent dimensions"
   ]
  },
  {
   "cell_type": "code",
   "execution_count": null,
   "id": "c64de15d",
   "metadata": {},
   "outputs": [],
   "source": []
  },
  {
   "cell_type": "code",
   "execution_count": null,
   "id": "f927e7a3",
   "metadata": {},
   "outputs": [],
   "source": []
  },
  {
   "cell_type": "code",
   "execution_count": null,
   "id": "4a5e90fb",
   "metadata": {},
   "outputs": [],
   "source": []
  },
  {
   "cell_type": "code",
   "execution_count": null,
   "id": "cbd7efe8",
   "metadata": {},
   "outputs": [],
   "source": []
  }
 ],
 "metadata": {
  "language_info": {
   "name": "python"
  }
 },
 "nbformat": 4,
 "nbformat_minor": 5
}
