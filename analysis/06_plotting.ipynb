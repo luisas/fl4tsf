{
 "cells": [
  {
   "cell_type": "markdown",
   "id": "2585b0ac",
   "metadata": {},
   "source": [
    "# Play with plotting latent dimensions"
   ]
  },
  {
   "cell_type": "code",
   "execution_count": 4,
   "id": "c64de15d",
   "metadata": {},
   "outputs": [],
   "source": [
    "import os\n",
    "import sys\n",
    "os.chdir(\"/Users/luisa/Desktop/nygc/cluster/projects/fl4tsf/bin\")\n",
    "sys.path.append(os.getcwd()) \n",
    "import torch\n",
    "\n",
    "from flower.task import Net, train\n",
    "import torch\n",
    "from lib.plot import Visualizations"
   ]
  },
  {
   "cell_type": "code",
   "execution_count": null,
   "id": "f927e7a3",
   "metadata": {},
   "outputs": [
    {
     "name": "stdout",
     "output_type": "stream",
     "text": [
      "Model configuration: {'dataset_name': 'physionet_filtered', 'data_folder': '../data/physionet_filtered/client_0', 'sample_tp': '0.5', 'lr': '0.01', 'lrdecay': '0.99', 'cut_tp': None, 'batch_size': '50', 'extrap': False, 'obsrv_std': '0.01', 'poisson': False, 'rec_layers': '1', 'gen_layers': '1', 'units': '100', 'gru_units': '100', 'latents': '1', 'rec_dims': '1', 'z0_encoder': 'odernn', 'train_classif_w_reconstr': False, 'classif': False, 'linear_classif': False, 'classif_per_tp': False, 'n_labels': '1', 'input_dim': '1', 'aggregation': 'FedAvg', 'storeweights': False, 'alpha': '0.5', 'localepochs': '3', 'serverrounds': '3', 'fractionfit': '1.0', 'fractionevaluate': '1.0', 'device': 'cpu', 'use_wandb': False, 'gradientclipping': False, 'decay_onset': '100'}\n",
      "1\n",
      "2\n",
      "100\n"
     ]
    },
    {
     "ename": "KeyError",
     "evalue": "'data_to_predict'",
     "output_type": "error",
     "traceback": [
      "\u001b[0;31m---------------------------------------------------------------------------\u001b[0m",
      "\u001b[0;31mKeyError\u001b[0m                                  Traceback (most recent call last)",
      "Cell \u001b[0;32mIn[7], line 8\u001b[0m\n\u001b[1;32m      3\u001b[0m model \u001b[38;5;241m=\u001b[39m Net()\n\u001b[1;32m      4\u001b[0m data_dict \u001b[38;5;241m=\u001b[39m {\n\u001b[1;32m      5\u001b[0m     \u001b[38;5;124m\"\u001b[39m\u001b[38;5;124mtrain\u001b[39m\u001b[38;5;124m\"\u001b[39m: torch\u001b[38;5;241m.\u001b[39mrandn(\u001b[38;5;241m100\u001b[39m, \u001b[38;5;241m10\u001b[39m),\n\u001b[1;32m      6\u001b[0m     \u001b[38;5;124m\"\u001b[39m\u001b[38;5;124mtest\u001b[39m\u001b[38;5;124m\"\u001b[39m: torch\u001b[38;5;241m.\u001b[39mrandn(\u001b[38;5;241m50\u001b[39m, \u001b[38;5;241m10\u001b[39m)\n\u001b[1;32m      7\u001b[0m }\n\u001b[0;32m----> 8\u001b[0m v\u001b[38;5;241m.\u001b[39mdraw_all_plots_one_dim(data_dict, model, plot_name \u001b[38;5;241m=\u001b[39m \u001b[38;5;124m\"\u001b[39m\u001b[38;5;124m\"\u001b[39m, save \u001b[38;5;241m=\u001b[39m \u001b[38;5;28;01mFalse\u001b[39;00m, experimentID \u001b[38;5;241m=\u001b[39m \u001b[38;5;241m0.\u001b[39m)\n",
      "File \u001b[0;32m~/Desktop/nygc/cluster/projects/fl4tsf/bin/lib/plot.py:312\u001b[0m, in \u001b[0;36mVisualizations.draw_all_plots_one_dim\u001b[0;34m(self, data_dict, model, plot_name, save, experimentID)\u001b[0m\n\u001b[1;32m    309\u001b[0m \u001b[38;5;28;01mdef\u001b[39;00m \u001b[38;5;21mdraw_all_plots_one_dim\u001b[39m(\u001b[38;5;28mself\u001b[39m, data_dict, model,\n\u001b[1;32m    310\u001b[0m \tplot_name \u001b[38;5;241m=\u001b[39m \u001b[38;5;124m\"\u001b[39m\u001b[38;5;124m\"\u001b[39m, save \u001b[38;5;241m=\u001b[39m \u001b[38;5;28;01mFalse\u001b[39;00m, experimentID \u001b[38;5;241m=\u001b[39m \u001b[38;5;241m0.\u001b[39m):\n\u001b[0;32m--> 312\u001b[0m \tdata \u001b[38;5;241m=\u001b[39m  data_dict[\u001b[38;5;124m\"\u001b[39m\u001b[38;5;124mdata_to_predict\u001b[39m\u001b[38;5;124m\"\u001b[39m]\n\u001b[1;32m    313\u001b[0m \ttime_steps \u001b[38;5;241m=\u001b[39m data_dict[\u001b[38;5;124m\"\u001b[39m\u001b[38;5;124mtp_to_predict\u001b[39m\u001b[38;5;124m\"\u001b[39m]\n\u001b[1;32m    314\u001b[0m \tmask \u001b[38;5;241m=\u001b[39m data_dict[\u001b[38;5;124m\"\u001b[39m\u001b[38;5;124mmask_predicted_data\u001b[39m\u001b[38;5;124m\"\u001b[39m]\n",
      "\u001b[0;31mKeyError\u001b[0m: 'data_to_predict'"
     ]
    }
   ],
   "source": [
    "\n",
    "v = Visualizations(device = \"cpu\")\n",
    "\n",
    "model = Net()\n",
    "\n",
    "\n",
    "\n",
    "\n",
    "\n",
    "\n",
    "v.draw_all_plots_one_dim(data_dict, model, plot_name = \"\", save = False, experimentID = 0.)\n"
   ]
  },
  {
   "cell_type": "code",
   "execution_count": null,
   "id": "4a5e90fb",
   "metadata": {},
   "outputs": [],
   "source": []
  },
  {
   "cell_type": "code",
   "execution_count": null,
   "id": "cbd7efe8",
   "metadata": {},
   "outputs": [],
   "source": []
  }
 ],
 "metadata": {
  "kernelspec": {
   "display_name": "base",
   "language": "python",
   "name": "python3"
  },
  "language_info": {
   "codemirror_mode": {
    "name": "ipython",
    "version": 3
   },
   "file_extension": ".py",
   "mimetype": "text/x-python",
   "name": "python",
   "nbconvert_exporter": "python",
   "pygments_lexer": "ipython3",
   "version": "3.12.7"
  }
 },
 "nbformat": 4,
 "nbformat_minor": 5
}
