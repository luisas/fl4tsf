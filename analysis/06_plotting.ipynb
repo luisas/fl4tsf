{
 "cells": [
  {
   "cell_type": "markdown",
   "id": "2585b0ac",
   "metadata": {},
   "source": [
    "# Play with plotting latent dimensions"
   ]
  },
  {
   "cell_type": "code",
   "execution_count": 4,
   "id": "c64de15d",
   "metadata": {},
   "outputs": [],
   "source": [
    "import os\n",
    "import sys\n",
    "os.chdir(\"/Users/luisa/Desktop/nygc/cluster/projects/fl4tsf/bin\")\n",
    "sys.path.append(os.getcwd()) \n",
    "import torch\n",
    "\n",
    "from flower.task import Net, train\n",
    "import torch\n",
    "from lib.plot import Visualizations"
   ]
  },
  {
   "cell_type": "code",
   "execution_count": 13,
   "id": "f927e7a3",
   "metadata": {},
   "outputs": [
    {
     "name": "stdout",
     "output_type": "stream",
     "text": [
      "Model configuration: {'dataset_name': 'physionet_filtered', 'data_folder': '../data/physionet_filtered/client_0', 'sample_tp': '0.5', 'lr': '0.01', 'lrdecay': '0.99', 'cut_tp': None, 'batch_size': '50', 'extrap': False, 'obsrv_std': '0.01', 'poisson': False, 'rec_layers': '1', 'gen_layers': '1', 'units': '100', 'gru_units': '100', 'latents': '1', 'rec_dims': '1', 'z0_encoder': 'odernn', 'train_classif_w_reconstr': False, 'classif': False, 'linear_classif': False, 'classif_per_tp': False, 'n_labels': '1', 'input_dim': '1', 'aggregation': 'FedAvg', 'storeweights': False, 'alpha': '0.5', 'localepochs': '3', 'serverrounds': '3', 'fractionfit': '1.0', 'fractionevaluate': '1.0', 'device': 'cpu', 'use_wandb': False, 'gradientclipping': False, 'decay_onset': '100'}\n",
      "1\n",
      "2\n",
      "100\n"
     ]
    },
    {
     "name": "stderr",
     "output_type": "stream",
     "text": [
      "/var/folders/yx/rfhrpk093hz1gfwtn7qxt_180000gq/T/ipykernel_8084/255474057.py:12: FutureWarning: You are using `torch.load` with `weights_only=False` (the current default value), which uses the default pickle module implicitly. It is possible to construct malicious pickle data which will execute arbitrary code during unpickling (See https://github.com/pytorch/pytorch/blob/main/SECURITY.md#untrusted-models for more details). In a future release, the default value for `weights_only` will be flipped to `True`. This limits the functions that could be executed during unpickling. Arbitrary objects will no longer be allowed to be loaded via this mode unless they are explicitly allowlisted by the user via `torch.serialization.add_safe_globals`. We recommend you start setting `weights_only=True` for any use case where you don't have full control of the loaded file. Please open an issue on GitHub for any issues related to this experimental feature.\n",
      "  train_data_0 = torch.load(f\"{path_prefix}/{prefix}/client_0_train.pt\")\n",
      "/var/folders/yx/rfhrpk093hz1gfwtn7qxt_180000gq/T/ipykernel_8084/255474057.py:13: FutureWarning: You are using `torch.load` with `weights_only=False` (the current default value), which uses the default pickle module implicitly. It is possible to construct malicious pickle data which will execute arbitrary code during unpickling (See https://github.com/pytorch/pytorch/blob/main/SECURITY.md#untrusted-models for more details). In a future release, the default value for `weights_only` will be flipped to `True`. This limits the functions that could be executed during unpickling. Arbitrary objects will no longer be allowed to be loaded via this mode unless they are explicitly allowlisted by the user via `torch.serialization.add_safe_globals`. We recommend you start setting `weights_only=True` for any use case where you don't have full control of the loaded file. Please open an issue on GitHub for any issues related to this experimental feature.\n",
      "  train_data_1 = torch.load(f\"{path_prefix}/{prefix}/client_1_train.pt\")\n"
     ]
    }
   ],
   "source": [
    "\n",
    "v = Visualizations(device = \"cpu\")\n",
    "\n",
    "model = Net()\n",
    "\n",
    "#################################################################\n",
    "# Load data\n",
    "################################################################\n",
    "#################################################################\n",
    "path_prefix = \"/Users/luisa/Desktop/nygc/cluster/projects/fl4tsf/data\"\n",
    "prefix = \"freq_amp_decay_maxfreq_0.1\"\n",
    "\n",
    "train_data_0 = torch.load(f\"{path_prefix}/{prefix}/client_0_train.pt\")\n",
    "train_data_1 = torch.load(f\"{path_prefix}/{prefix}/client_1_train.pt\")\n",
    "\n"
   ]
  },
  {
   "cell_type": "code",
   "execution_count": null,
   "id": "4ba95bac",
   "metadata": {},
   "outputs": [
    {
     "data": {
      "text/plain": [
       "tensor([[[ 0.9013],\n",
       "         [ 0.9107],\n",
       "         [ 0.9130],\n",
       "         ...,\n",
       "         [-0.0978],\n",
       "         [-0.0987],\n",
       "         [-0.0985]],\n",
       "\n",
       "        [[ 0.9082],\n",
       "         [ 0.9176],\n",
       "         [ 0.9198],\n",
       "         ...,\n",
       "         [-0.0910],\n",
       "         [-0.0918],\n",
       "         [-0.0916]],\n",
       "\n",
       "        [[ 1.0405],\n",
       "         [ 1.0499],\n",
       "         [ 1.0522],\n",
       "         ...,\n",
       "         [ 0.0414],\n",
       "         [ 0.0406],\n",
       "         [ 0.0407]],\n",
       "\n",
       "        ...,\n",
       "\n",
       "        [[ 1.1772],\n",
       "         [ 1.1866],\n",
       "         [ 1.1889],\n",
       "         ...,\n",
       "         [ 0.1781],\n",
       "         [ 0.1772],\n",
       "         [ 0.1774]],\n",
       "\n",
       "        [[ 0.9804],\n",
       "         [ 0.9898],\n",
       "         [ 0.9921],\n",
       "         ...,\n",
       "         [-0.0187],\n",
       "         [-0.0196],\n",
       "         [-0.0194]],\n",
       "\n",
       "        [[ 1.0922],\n",
       "         [ 1.1016],\n",
       "         [ 1.1038],\n",
       "         ...,\n",
       "         [ 0.0930],\n",
       "         [ 0.0922],\n",
       "         [ 0.0924]]])"
      ]
     },
     "execution_count": 14,
     "metadata": {},
     "output_type": "execute_result"
    }
   ],
   "source": [
    "train_data_0.shape\n"
   ]
  },
  {
   "cell_type": "code",
   "execution_count": null,
   "id": "4a5e90fb",
   "metadata": {},
   "outputs": [],
   "source": [
    "\n",
    "\n",
    "v.draw_all_plots_one_dim(data_dict, model, plot_name = \"\", save = False, experimentID = 0.)"
   ]
  },
  {
   "cell_type": "code",
   "execution_count": null,
   "id": "cbd7efe8",
   "metadata": {},
   "outputs": [],
   "source": []
  }
 ],
 "metadata": {
  "kernelspec": {
   "display_name": "base",
   "language": "python",
   "name": "python3"
  },
  "language_info": {
   "codemirror_mode": {
    "name": "ipython",
    "version": 3
   },
   "file_extension": ".py",
   "mimetype": "text/x-python",
   "name": "python",
   "nbconvert_exporter": "python",
   "pygments_lexer": "ipython3",
   "version": "3.12.7"
  }
 },
 "nbformat": 4,
 "nbformat_minor": 5
}
