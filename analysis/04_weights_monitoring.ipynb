{
 "cells": [
  {
   "cell_type": "code",
   "execution_count": null,
   "id": "4fd6137f",
   "metadata": {},
   "outputs": [],
   "source": []
  },
  {
   "cell_type": "code",
   "execution_count": null,
   "id": "09fc284f",
   "metadata": {},
   "outputs": [],
   "source": [
    "import glob\n",
    "import os\n",
    "import json\n",
    "import torch\n",
    "import pandas as pd"
   ]
  },
  {
   "cell_type": "code",
   "execution_count": 7,
   "id": "7cdd2df4",
   "metadata": {},
   "outputs": [
    {
     "data": {
      "text/plain": [
       "'/Users/luisa/Desktop/nygc/cluster/projects/fl4tsf/work/b9/3b6d6b92f83daca0645b7d5820ebb1/federated_outputs'"
      ]
     },
     "execution_count": 7,
     "metadata": {},
     "output_type": "execute_result"
    }
   ],
   "source": [
    "# get FedAvg and check it is learning\n",
    "fed_avg = glob.glob(f\"../results/periodic/**/FedAvg/**/federated_outputs\", recursive=True)\n",
    "fed_avg = glob.glob(\"/Users/luisa/Desktop/nygc/cluster/projects/fl4tsf/work/b9/3b6d6b92f83daca0645b7d5820ebb1/federated_outputs\", recursive=True)\n",
    "fed_avg = fed_avg[0]\n",
    "fed_avg"
   ]
  },
  {
   "cell_type": "code",
   "execution_count": 92,
   "id": "9f9024d7",
   "metadata": {},
   "outputs": [],
   "source": [
    "# per client load the weigths\n",
    "cn = 0\n"
   ]
  },
  {
   "cell_type": "code",
   "execution_count": 93,
   "id": "311b3c2a",
   "metadata": {},
   "outputs": [],
   "source": [
    "def print_shapes(w):\n",
    "    for i in range(len(w)):\n",
    "        print(f\"Layer {i}: {w[i].shape}\")\n",
    "\n",
    "# separate weigts and biases\n",
    "def separate_weights(w):\n",
    "    weights = []\n",
    "    biases = []\n",
    "    for i in range(len(w)):\n",
    "        if(len(w[i].shape) == 2):\n",
    "            weights.append(w[i])\n",
    "        elif(len(w[i].shape) == 1):\n",
    "            biases.append(w[i])\n",
    "    return weights, biases"
   ]
  },
  {
   "cell_type": "code",
   "execution_count": 94,
   "id": "facf97bf",
   "metadata": {},
   "outputs": [
    {
     "name": "stderr",
     "output_type": "stream",
     "text": [
      "/var/folders/yx/rfhrpk093hz1gfwtn7qxt_180000gq/T/ipykernel_62320/2654216139.py:15: FutureWarning: You are using `torch.load` with `weights_only=False` (the current default value), which uses the default pickle module implicitly. It is possible to construct malicious pickle data which will execute arbitrary code during unpickling (See https://github.com/pytorch/pytorch/blob/main/SECURITY.md#untrusted-models for more details). In a future release, the default value for `weights_only` will be flipped to `True`. This limits the functions that could be executed during unpickling. Arbitrary objects will no longer be allowed to be loaded via this mode unless they are explicitly allowlisted by the user via `torch.serialization.add_safe_globals`. We recommend you start setting `weights_only=True` for any use case where you don't have full control of the loaded file. Please open an issue on GitHub for any issues related to this experimental feature.\n",
      "  return torch.load(w_file[0])\n"
     ]
    }
   ],
   "source": [
    "results = glob.glob(f\"{fed_avg}/results_{cn}.json\", recursive=True)[0]\n",
    "with open(results, \"r\") as f:\n",
    "    data = json.load(f)\n",
    "# extract rounds and weights and put in a dataframe\n",
    "rounds = []\n",
    "weights = []\n",
    "for i in range(len(data[\"client_train\"])):\n",
    "    rounds.append(data[\"client_train\"][i][\"round\"])\n",
    "    weights.append(data[\"client_train\"][i][\"weights\"])\n",
    "df_fedavg = pd.DataFrame({\"round\": rounds, \"weights\": weights})\n",
    "\n",
    "def load_weigths(round):\n",
    "    w_name = df_fedavg[\"weights\"][round]\n",
    "    w_file = glob.glob(f\"{fed_avg}/../{w_name}\", recursive=True)\n",
    "    return torch.load(w_file[0])\n",
    "\n",
    "def total_l2_norm(w0, w1):\n",
    "    \"\"\"Returns total L2 norm over all parameters.\"\"\"\n",
    "    diffs = [(torch.tensor(a) - torch.tensor(b)).flatten() for a, b in zip(w0, w1)]\n",
    "    total_diff = torch.cat(diffs)\n",
    "    return torch.norm(total_diff).item()\n",
    "\n",
    "def l2norm_perlayer(w0, w1):\n",
    "    \"\"\"Returns L2 norm per layer.\"\"\"\n",
    "    diffs = [(torch.tensor(a) - torch.tensor(b)).flatten() for a, b in zip(w0, w1)]\n",
    "    total_diff = torch.cat(diffs)\n",
    "    return [torch.norm(diff).item() for diff in diffs]\n",
    "\n",
    "# for each round, compute the l2 norm of the weights between current and previous\n",
    "def compute_l2_norm(round):\n",
    "    if round == 0:\n",
    "        return 0\n",
    "    else:\n",
    "        return total_l2_norm(load_weigths(round-1), load_weigths(round))\n",
    "\n",
    "# compute the l2 norm for each round\n",
    "l2_norms = []\n",
    "for i in range(len(df_fedavg)):\n",
    "    l2_norms.append(compute_l2_norm(i))\n",
    "# add the l2 norm to the dataframe\n",
    "df_fedavg[\"l2_norm\"] = l2_norms"
   ]
  },
  {
   "cell_type": "code",
   "execution_count": 95,
   "id": "cd72c7c8",
   "metadata": {},
   "outputs": [
    {
     "name": "stderr",
     "output_type": "stream",
     "text": [
      "/var/folders/yx/rfhrpk093hz1gfwtn7qxt_180000gq/T/ipykernel_62320/2654216139.py:15: FutureWarning: You are using `torch.load` with `weights_only=False` (the current default value), which uses the default pickle module implicitly. It is possible to construct malicious pickle data which will execute arbitrary code during unpickling (See https://github.com/pytorch/pytorch/blob/main/SECURITY.md#untrusted-models for more details). In a future release, the default value for `weights_only` will be flipped to `True`. This limits the functions that could be executed during unpickling. Arbitrary objects will no longer be allowed to be loaded via this mode unless they are explicitly allowlisted by the user via `torch.serialization.add_safe_globals`. We recommend you start setting `weights_only=True` for any use case where you don't have full control of the loaded file. Please open an issue on GitHub for any issues related to this experimental feature.\n",
      "  return torch.load(w_file[0])\n"
     ]
    }
   ],
   "source": [
    "# Assuming df_fedavg is already defined\n",
    "l2_norms_weights = []\n",
    "l2_norms_biases = []\n",
    "\n",
    "for i in range(len(df_fedavg)):\n",
    "    w = load_weigths(i)  # Should return a list of tensors or arrays\n",
    "    weights, biases = separate_weights(w)  # Should return two lists\n",
    "\n",
    "    # Convert to tensors if not already\n",
    "    weights = [torch.tensor(w) for w in weights]\n",
    "    biases = [torch.tensor(b) for b in biases]\n",
    "\n",
    "    # Flatten and concatenate\n",
    "    if weights:\n",
    "        l2_w = torch.norm(torch.cat([w.flatten() for w in weights])).item()\n",
    "    else:\n",
    "        l2_w = 0.0\n",
    "\n",
    "    if biases:\n",
    "        l2_b = torch.norm(torch.cat([b.flatten() for b in biases])).item()\n",
    "    else:\n",
    "        l2_b = 0.0\n",
    "\n",
    "    l2_norms_weights.append(l2_w)\n",
    "    l2_norms_biases.append(l2_b)\n",
    "\n",
    "# Add to dataframe\n",
    "df_fedavg[\"l2_norm_weights\"] = l2_norms_weights\n",
    "df_fedavg[\"l2_norm_biases\"] = l2_norms_biases\n",
    "# save the dataframe to a csv fil"
   ]
  },
  {
   "cell_type": "code",
   "execution_count": 96,
   "id": "c37bd86a",
   "metadata": {},
   "outputs": [
    {
     "data": {
      "text/html": [
       "<div>\n",
       "<style scoped>\n",
       "    .dataframe tbody tr th:only-of-type {\n",
       "        vertical-align: middle;\n",
       "    }\n",
       "\n",
       "    .dataframe tbody tr th {\n",
       "        vertical-align: top;\n",
       "    }\n",
       "\n",
       "    .dataframe thead th {\n",
       "        text-align: right;\n",
       "    }\n",
       "</style>\n",
       "<table border=\"1\" class=\"dataframe\">\n",
       "  <thead>\n",
       "    <tr style=\"text-align: right;\">\n",
       "      <th></th>\n",
       "      <th>round</th>\n",
       "      <th>weights</th>\n",
       "      <th>l2_norm</th>\n",
       "      <th>l2_norm_weights</th>\n",
       "      <th>l2_norm_biases</th>\n",
       "    </tr>\n",
       "  </thead>\n",
       "  <tbody>\n",
       "    <tr>\n",
       "      <th>0</th>\n",
       "      <td>0</td>\n",
       "      <td>weights_896415.pt</td>\n",
       "      <td>0.000000</td>\n",
       "      <td>61.511555</td>\n",
       "      <td>8.138094</td>\n",
       "    </tr>\n",
       "    <tr>\n",
       "      <th>1</th>\n",
       "      <td>1</td>\n",
       "      <td>weights_314179.pt</td>\n",
       "      <td>67.221474</td>\n",
       "      <td>81.074944</td>\n",
       "      <td>10.151161</td>\n",
       "    </tr>\n",
       "    <tr>\n",
       "      <th>2</th>\n",
       "      <td>2</td>\n",
       "      <td>weights_854482.pt</td>\n",
       "      <td>65.537552</td>\n",
       "      <td>91.058868</td>\n",
       "      <td>13.303809</td>\n",
       "    </tr>\n",
       "    <tr>\n",
       "      <th>3</th>\n",
       "      <td>3</td>\n",
       "      <td>weights_12765.pt</td>\n",
       "      <td>55.793865</td>\n",
       "      <td>93.459831</td>\n",
       "      <td>13.202818</td>\n",
       "    </tr>\n",
       "    <tr>\n",
       "      <th>4</th>\n",
       "      <td>4</td>\n",
       "      <td>weights_903380.pt</td>\n",
       "      <td>60.226425</td>\n",
       "      <td>104.090004</td>\n",
       "      <td>13.947058</td>\n",
       "    </tr>\n",
       "  </tbody>\n",
       "</table>\n",
       "</div>"
      ],
      "text/plain": [
       "   round            weights    l2_norm  l2_norm_weights  l2_norm_biases\n",
       "0      0  weights_896415.pt   0.000000        61.511555        8.138094\n",
       "1      1  weights_314179.pt  67.221474        81.074944       10.151161\n",
       "2      2  weights_854482.pt  65.537552        91.058868       13.303809\n",
       "3      3   weights_12765.pt  55.793865        93.459831       13.202818\n",
       "4      4  weights_903380.pt  60.226425       104.090004       13.947058"
      ]
     },
     "execution_count": 96,
     "metadata": {},
     "output_type": "execute_result"
    }
   ],
   "source": [
    "df_fedavg"
   ]
  },
  {
   "cell_type": "code",
   "execution_count": 97,
   "id": "7d147a48",
   "metadata": {},
   "outputs": [
    {
     "name": "stderr",
     "output_type": "stream",
     "text": [
      "/var/folders/yx/rfhrpk093hz1gfwtn7qxt_180000gq/T/ipykernel_62320/2654216139.py:15: FutureWarning: You are using `torch.load` with `weights_only=False` (the current default value), which uses the default pickle module implicitly. It is possible to construct malicious pickle data which will execute arbitrary code during unpickling (See https://github.com/pytorch/pytorch/blob/main/SECURITY.md#untrusted-models for more details). In a future release, the default value for `weights_only` will be flipped to `True`. This limits the functions that could be executed during unpickling. Arbitrary objects will no longer be allowed to be loaded via this mode unless they are explicitly allowlisted by the user via `torch.serialization.add_safe_globals`. We recommend you start setting `weights_only=True` for any use case where you don't have full control of the loaded file. Please open an issue on GitHub for any issues related to this experimental feature.\n",
      "  return torch.load(w_file[0])\n"
     ]
    }
   ],
   "source": [
    "\n",
    "# Assuming df_fedavg is already defined\n",
    "l2_norms_weights_per_layer = []\n",
    "l2_norms_biases_per_layer = []\n",
    "\n",
    "for i in range(len(df_fedavg)):\n",
    "    w = load_weigths(i)  # list of tensors or arrays\n",
    "    weights, biases = separate_weights(w)  # returns two lists\n",
    "\n",
    "    weights = [torch.tensor(w) for w in weights]\n",
    "    biases = [torch.tensor(b) for b in biases]\n",
    "\n",
    "    l2_weights = [torch.norm(w.flatten()).item() for w in weights]\n",
    "    l2_biases = [torch.norm(b.flatten()).item() for b in biases]\n",
    "\n",
    "    l2_norms_weights_per_layer.append(l2_weights)\n",
    "    l2_norms_biases_per_layer.append(l2_biases)\n",
    "\n",
    "# Add lists to dataframe\n",
    "df_fedavg[\"l2_weights_per_layer\"] = l2_norms_weights_per_layer\n",
    "df_fedavg[\"l2_biases_per_layer\"] = l2_norms_biases_per_layer"
   ]
  },
  {
   "cell_type": "code",
   "execution_count": 98,
   "id": "c59ea10b",
   "metadata": {},
   "outputs": [
    {
     "data": {
      "text/html": [
       "<div>\n",
       "<style scoped>\n",
       "    .dataframe tbody tr th:only-of-type {\n",
       "        vertical-align: middle;\n",
       "    }\n",
       "\n",
       "    .dataframe tbody tr th {\n",
       "        vertical-align: top;\n",
       "    }\n",
       "\n",
       "    .dataframe thead th {\n",
       "        text-align: right;\n",
       "    }\n",
       "</style>\n",
       "<table border=\"1\" class=\"dataframe\">\n",
       "  <thead>\n",
       "    <tr style=\"text-align: right;\">\n",
       "      <th></th>\n",
       "      <th>round</th>\n",
       "      <th>weights</th>\n",
       "      <th>l2_norm</th>\n",
       "      <th>l2_norm_weights</th>\n",
       "      <th>l2_norm_biases</th>\n",
       "      <th>l2_weights_per_layer</th>\n",
       "      <th>l2_biases_per_layer</th>\n",
       "    </tr>\n",
       "  </thead>\n",
       "  <tbody>\n",
       "    <tr>\n",
       "      <th>0</th>\n",
       "      <td>0</td>\n",
       "      <td>weights_896415.pt</td>\n",
       "      <td>0.000000</td>\n",
       "      <td>61.511555</td>\n",
       "      <td>8.138094</td>\n",
       "      <td>[17.15289878845215, 11.609171867370605, 18.023...</td>\n",
       "      <td>[2.314305067062378, 1.2984036207199097, 2.5891...</td>\n",
       "    </tr>\n",
       "    <tr>\n",
       "      <th>1</th>\n",
       "      <td>1</td>\n",
       "      <td>weights_314179.pt</td>\n",
       "      <td>67.221474</td>\n",
       "      <td>81.074944</td>\n",
       "      <td>10.151161</td>\n",
       "      <td>[23.77332878112793, 16.564165115356445, 24.884...</td>\n",
       "      <td>[1.8402799367904663, 1.2196860313415527, 2.986...</td>\n",
       "    </tr>\n",
       "    <tr>\n",
       "      <th>2</th>\n",
       "      <td>2</td>\n",
       "      <td>weights_854482.pt</td>\n",
       "      <td>65.537552</td>\n",
       "      <td>91.058868</td>\n",
       "      <td>13.303809</td>\n",
       "      <td>[27.72836685180664, 17.60900115966797, 24.7459...</td>\n",
       "      <td>[3.4933364391326904, 1.5892060995101929, 3.621...</td>\n",
       "    </tr>\n",
       "    <tr>\n",
       "      <th>3</th>\n",
       "      <td>3</td>\n",
       "      <td>weights_12765.pt</td>\n",
       "      <td>55.793865</td>\n",
       "      <td>93.459831</td>\n",
       "      <td>13.202818</td>\n",
       "      <td>[27.880380630493164, 17.454187393188477, 25.59...</td>\n",
       "      <td>[2.239858627319336, 1.6645770072937012, 4.0708...</td>\n",
       "    </tr>\n",
       "    <tr>\n",
       "      <th>4</th>\n",
       "      <td>4</td>\n",
       "      <td>weights_903380.pt</td>\n",
       "      <td>60.226425</td>\n",
       "      <td>104.090004</td>\n",
       "      <td>13.947058</td>\n",
       "      <td>[29.904338836669922, 19.721227645874023, 29.30...</td>\n",
       "      <td>[2.8728959560394287, 2.065176486968994, 4.6950...</td>\n",
       "    </tr>\n",
       "  </tbody>\n",
       "</table>\n",
       "</div>"
      ],
      "text/plain": [
       "   round            weights    l2_norm  l2_norm_weights  l2_norm_biases  \\\n",
       "0      0  weights_896415.pt   0.000000        61.511555        8.138094   \n",
       "1      1  weights_314179.pt  67.221474        81.074944       10.151161   \n",
       "2      2  weights_854482.pt  65.537552        91.058868       13.303809   \n",
       "3      3   weights_12765.pt  55.793865        93.459831       13.202818   \n",
       "4      4  weights_903380.pt  60.226425       104.090004       13.947058   \n",
       "\n",
       "                                l2_weights_per_layer  \\\n",
       "0  [17.15289878845215, 11.609171867370605, 18.023...   \n",
       "1  [23.77332878112793, 16.564165115356445, 24.884...   \n",
       "2  [27.72836685180664, 17.60900115966797, 24.7459...   \n",
       "3  [27.880380630493164, 17.454187393188477, 25.59...   \n",
       "4  [29.904338836669922, 19.721227645874023, 29.30...   \n",
       "\n",
       "                                 l2_biases_per_layer  \n",
       "0  [2.314305067062378, 1.2984036207199097, 2.5891...  \n",
       "1  [1.8402799367904663, 1.2196860313415527, 2.986...  \n",
       "2  [3.4933364391326904, 1.5892060995101929, 3.621...  \n",
       "3  [2.239858627319336, 1.6645770072937012, 4.0708...  \n",
       "4  [2.8728959560394287, 2.065176486968994, 4.6950...  "
      ]
     },
     "execution_count": 98,
     "metadata": {},
     "output_type": "execute_result"
    }
   ],
   "source": [
    "df_fedavg"
   ]
  },
  {
   "cell_type": "code",
   "execution_count": 122,
   "id": "59428e38",
   "metadata": {},
   "outputs": [
    {
     "name": "stderr",
     "output_type": "stream",
     "text": [
      "/var/folders/yx/rfhrpk093hz1gfwtn7qxt_180000gq/T/ipykernel_62320/2654216139.py:15: FutureWarning: You are using `torch.load` with `weights_only=False` (the current default value), which uses the default pickle module implicitly. It is possible to construct malicious pickle data which will execute arbitrary code during unpickling (See https://github.com/pytorch/pytorch/blob/main/SECURITY.md#untrusted-models for more details). In a future release, the default value for `weights_only` will be flipped to `True`. This limits the functions that could be executed during unpickling. Arbitrary objects will no longer be allowed to be loaded via this mode unless they are explicitly allowlisted by the user via `torch.serialization.add_safe_globals`. We recommend you start setting `weights_only=True` for any use case where you don't have full control of the loaded file. Please open an issue on GitHub for any issues related to this experimental feature.\n",
      "  return torch.load(w_file[0])\n"
     ]
    }
   ],
   "source": [
    "# Step 1: Explode and add layer_id\n",
    "df_weights = df_fedavg[[\"round\", \"l2_weights_per_layer\"]].explode(\"l2_weights_per_layer\")\n",
    "df_weights[\"layer_id\"] = df_weights.groupby(\"round\").cumcount()\n",
    "df_weights[\"round\"] = df_weights[\"round\"] + 1\n",
    "\n",
    "# Step 2: Get all layer sizes per round\n",
    "layer_sizes_all_rounds = []\n",
    "for i in range(len(df_fedavg)):  # one per round\n",
    "    w = load_weigths(i)\n",
    "    weights, _ = separate_weights(w)\n",
    "    layer_sizes_all_rounds.extend([w.shape for w in weights])  # flat list\n",
    "\n",
    "# Step 3: Add to exploded dataframe\n",
    "df_weights[\"layer_size\"] = layer_sizes_all_rounds"
   ]
  },
  {
   "cell_type": "code",
   "execution_count": 123,
   "id": "064667bd",
   "metadata": {},
   "outputs": [],
   "source": [
    "df_weights[\"size\"] = df_weights[\"layer_size\"].apply(lambda x: x[0] * x[1] if len(x) == 2 else x[0])\n",
    "df_weights[\"layer_size\"] = df_weights[\"layer_size\"].apply(lambda x: f\"{x[0]}x{x[1]}\" if len(x) == 2 else str(x[0]))\n",
    "df_weights[\"l2_weights_per_layer\"] = df_weights[\"l2_weights_per_layer\"].astype(float)\n",
    "df_weights[\"size\"] = df_weights[\"size\"].astype(float)\n",
    "df_weights[\"normalized_l2\"] = df_weights[\"l2_weights_per_layer\"] / df_weights[\"size\"]\n",
    "df_weights[\"normalized_l2\"] = df_weights[\"normalized_l2\"].astype(float)\n"
   ]
  },
  {
   "cell_type": "code",
   "execution_count": 124,
   "id": "850337d4",
   "metadata": {},
   "outputs": [
    {
     "data": {
      "text/plain": [
       "<Figure size 600x400 with 0 Axes>"
      ]
     },
     "metadata": {},
     "output_type": "display_data"
    },
    {
     "data": {
      "image/png": "[encoded data removed]",
      "text/plain": [
       "<Figure size 600x400 with 1 Axes>"
      ]
     },
     "metadata": {},
     "output_type": "display_data"
    }
   ],
   "source": [
    "# plot l2_weitghs per layer vs round\n",
    "import matplotlib.pyplot as plt\n",
    "import seaborn as sns\n",
    "plt.figure(figsize=(6, 4))\n",
    "\n",
    "\n",
    "\n",
    "plt.figure(figsize=(6, 4))\n",
    "\n",
    "num_layers = df_weights[\"layer_id\"].nunique()\n",
    "palette = sns.color_palette(\"tab20\", num_layers)\n",
    "\n",
    "ax = sns.lineplot(\n",
    "    data=df_weights,\n",
    "    x=\"round\",\n",
    "    y=\"normalized_l2\",\n",
    "    hue=\"layer_id\",\n",
    "    palette=palette\n",
    ")\n",
    "\n",
    "# Build custom legend labels with layer sizes\n",
    "handles, labels = ax.get_legend_handles_labels()\n",
    "new_labels = []\n",
    "for label in labels:\n",
    "    layer_id = int(label)\n",
    "    # Get the first layer_size value for this layer_id (assuming consistent shape)\n",
    "    size = df_weights[df_weights[\"layer_id\"] == layer_id][\"layer_size\"].iloc[0]\n",
    "    # Format the size tuple nicely\n",
    "    size_str = \"x\".join(map(str, size)) if isinstance(size, (tuple, list)) else str(size)\n",
    "    new_labels.append(f\"Layer {layer_id} (Size: {size_str})\")\n",
    "\n",
    "# Update legend with new labels\n",
    "ax.legend(handles=handles, labels=new_labels, title=\"Layer (Weight Size)\", bbox_to_anchor=(1.05, 1), loc='upper left')\n",
    "\n",
    "plt.tight_layout()\n",
    "plt.show()\n",
    "\n",
    "\n",
    "\n"
   ]
  },
  {
   "cell_type": "code",
   "execution_count": null,
   "id": "0ffac2bd",
   "metadata": {},
   "outputs": [
    {
     "name": "stderr",
     "output_type": "stream",
     "text": [
      "/var/folders/yx/rfhrpk093hz1gfwtn7qxt_180000gq/T/ipykernel_62320/2654216139.py:15: FutureWarning: You are using `torch.load` with `weights_only=False` (the current default value), which uses the default pickle module implicitly. It is possible to construct malicious pickle data which will execute arbitrary code during unpickling (See https://github.com/pytorch/pytorch/blob/main/SECURITY.md#untrusted-models for more details). In a future release, the default value for `weights_only` will be flipped to `True`. This limits the functions that could be executed during unpickling. Arbitrary objects will no longer be allowed to be loaded via this mode unless they are explicitly allowlisted by the user via `torch.serialization.add_safe_globals`. We recommend you start setting `weights_only=True` for any use case where you don't have full control of the loaded file. Please open an issue on GitHub for any issues related to this experimental feature.\n",
      "  return torch.load(w_file[0])\n"
     ]
    }
   ],
   "source": []
  },
  {
   "cell_type": "code",
   "execution_count": 103,
   "id": "1651055e",
   "metadata": {},
   "outputs": [
    {
     "data": {
      "text/html": [
       "<div>\n",
       "<style scoped>\n",
       "    .dataframe tbody tr th:only-of-type {\n",
       "        vertical-align: middle;\n",
       "    }\n",
       "\n",
       "    .dataframe tbody tr th {\n",
       "        vertical-align: top;\n",
       "    }\n",
       "\n",
       "    .dataframe thead th {\n",
       "        text-align: right;\n",
       "    }\n",
       "</style>\n",
       "<table border=\"1\" class=\"dataframe\">\n",
       "  <thead>\n",
       "    <tr style=\"text-align: right;\">\n",
       "      <th></th>\n",
       "      <th>round</th>\n",
       "      <th>weights</th>\n",
       "      <th>l2_norm</th>\n",
       "      <th>l2_norm_weights</th>\n",
       "      <th>l2_norm_biases</th>\n",
       "      <th>l2_weights_per_layer</th>\n",
       "      <th>l2_biases_per_layer</th>\n",
       "      <th>layer_sizes</th>\n",
       "    </tr>\n",
       "  </thead>\n",
       "  <tbody>\n",
       "    <tr>\n",
       "      <th>0</th>\n",
       "      <td>0</td>\n",
       "      <td>weights_896415.pt</td>\n",
       "      <td>0.000000</td>\n",
       "      <td>61.511555</td>\n",
       "      <td>8.138094</td>\n",
       "      <td>[17.15289878845215, 11.609171867370605, 18.023...</td>\n",
       "      <td>[2.314305067062378, 1.2984036207199097, 2.5891...</td>\n",
       "      <td>[(100, 42), (20, 100), (100, 42), (20, 100), (...</td>\n",
       "    </tr>\n",
       "    <tr>\n",
       "      <th>1</th>\n",
       "      <td>1</td>\n",
       "      <td>weights_314179.pt</td>\n",
       "      <td>67.221474</td>\n",
       "      <td>81.074944</td>\n",
       "      <td>10.151161</td>\n",
       "      <td>[23.77332878112793, 16.564165115356445, 24.884...</td>\n",
       "      <td>[1.8402799367904663, 1.2196860313415527, 2.986...</td>\n",
       "      <td>[(100, 42), (20, 100), (100, 42), (20, 100), (...</td>\n",
       "    </tr>\n",
       "    <tr>\n",
       "      <th>2</th>\n",
       "      <td>2</td>\n",
       "      <td>weights_854482.pt</td>\n",
       "      <td>65.537552</td>\n",
       "      <td>91.058868</td>\n",
       "      <td>13.303809</td>\n",
       "      <td>[27.72836685180664, 17.60900115966797, 24.7459...</td>\n",
       "      <td>[3.4933364391326904, 1.5892060995101929, 3.621...</td>\n",
       "      <td>[(100, 42), (20, 100), (100, 42), (20, 100), (...</td>\n",
       "    </tr>\n",
       "    <tr>\n",
       "      <th>3</th>\n",
       "      <td>3</td>\n",
       "      <td>weights_12765.pt</td>\n",
       "      <td>55.793865</td>\n",
       "      <td>93.459831</td>\n",
       "      <td>13.202818</td>\n",
       "      <td>[27.880380630493164, 17.454187393188477, 25.59...</td>\n",
       "      <td>[2.239858627319336, 1.6645770072937012, 4.0708...</td>\n",
       "      <td>[(100, 42), (20, 100), (100, 42), (20, 100), (...</td>\n",
       "    </tr>\n",
       "    <tr>\n",
       "      <th>4</th>\n",
       "      <td>4</td>\n",
       "      <td>weights_903380.pt</td>\n",
       "      <td>60.226425</td>\n",
       "      <td>104.090004</td>\n",
       "      <td>13.947058</td>\n",
       "      <td>[29.904338836669922, 19.721227645874023, 29.30...</td>\n",
       "      <td>[2.8728959560394287, 2.065176486968994, 4.6950...</td>\n",
       "      <td>[(100, 42), (20, 100), (100, 42), (20, 100), (...</td>\n",
       "    </tr>\n",
       "  </tbody>\n",
       "</table>\n",
       "</div>"
      ],
      "text/plain": [
       "   round            weights    l2_norm  l2_norm_weights  l2_norm_biases  \\\n",
       "0      0  weights_896415.pt   0.000000        61.511555        8.138094   \n",
       "1      1  weights_314179.pt  67.221474        81.074944       10.151161   \n",
       "2      2  weights_854482.pt  65.537552        91.058868       13.303809   \n",
       "3      3   weights_12765.pt  55.793865        93.459831       13.202818   \n",
       "4      4  weights_903380.pt  60.226425       104.090004       13.947058   \n",
       "\n",
       "                                l2_weights_per_layer  \\\n",
       "0  [17.15289878845215, 11.609171867370605, 18.023...   \n",
       "1  [23.77332878112793, 16.564165115356445, 24.884...   \n",
       "2  [27.72836685180664, 17.60900115966797, 24.7459...   \n",
       "3  [27.880380630493164, 17.454187393188477, 25.59...   \n",
       "4  [29.904338836669922, 19.721227645874023, 29.30...   \n",
       "\n",
       "                                 l2_biases_per_layer  \\\n",
       "0  [2.314305067062378, 1.2984036207199097, 2.5891...   \n",
       "1  [1.8402799367904663, 1.2196860313415527, 2.986...   \n",
       "2  [3.4933364391326904, 1.5892060995101929, 3.621...   \n",
       "3  [2.239858627319336, 1.6645770072937012, 4.0708...   \n",
       "4  [2.8728959560394287, 2.065176486968994, 4.6950...   \n",
       "\n",
       "                                         layer_sizes  \n",
       "0  [(100, 42), (20, 100), (100, 42), (20, 100), (...  \n",
       "1  [(100, 42), (20, 100), (100, 42), (20, 100), (...  \n",
       "2  [(100, 42), (20, 100), (100, 42), (20, 100), (...  \n",
       "3  [(100, 42), (20, 100), (100, 42), (20, 100), (...  \n",
       "4  [(100, 42), (20, 100), (100, 42), (20, 100), (...  "
      ]
     },
     "execution_count": 103,
     "metadata": {},
     "output_type": "execute_result"
    }
   ],
   "source": [
    "df_fedavg"
   ]
  },
  {
   "cell_type": "code",
   "execution_count": null,
   "id": "7b4f20e2",
   "metadata": {},
   "outputs": [],
   "source": []
  }
 ],
 "metadata": {
  "kernelspec": {
   "display_name": "base",
   "language": "python",
   "name": "python3"
  },
  "language_info": {
   "codemirror_mode": {
    "name": "ipython",
    "version": 3
   },
   "file_extension": ".py",
   "mimetype": "text/x-python",
   "name": "python",
   "nbconvert_exporter": "python",
   "pygments_lexer": "ipython3",
   "version": "3.12.7"
  }
 },
 "nbformat": 4,
 "nbformat_minor": 5
}
