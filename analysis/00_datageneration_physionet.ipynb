{
 "cells": [
  {
   "cell_type": "code",
   "execution_count": 6,
   "id": "a28f2639",
   "metadata": {},
   "outputs": [
    {
     "name": "stdout",
     "output_type": "stream",
     "text": [
      "The autoreload extension is already loaded. To reload it, use:\n",
      "  %reload_ext autoreload\n"
     ]
    }
   ],
   "source": [
    "import os\n",
    "import sys\n",
    "os.chdir(\"/Users/luisa/Desktop/nygc/cluster/projects/fl4tsf/bin\")\n",
    "sys.path.append(os.getcwd()) \n",
    "import torch\n",
    "\n",
    "from flower.task import Net, train\n",
    "import torch\n",
    "# import dataloader\n",
    "from torch.utils.data import DataLoader\n",
    "from lib.dataset_utils import *\n",
    "%matplotlib inline\n",
    "%load_ext autoreload\n",
    "%autoreload 2\n",
    "from lib.physionet import PhysioNet, variable_time_collate_fn, get_data_min_max\n",
    "from sklearn import model_selection\n",
    "from torch.utils.data import DataLoader\n",
    "from lib import utils\n",
    "from lib.dataset_utils import store_dataset_physionet\n",
    "\n",
    "path_prefix = \"/Users/luisa/Desktop/nygc/cluster/projects/fl4tsf/data\"\n",
    "prefix = \"physionet\"\n",
    "batch_size = 64\n",
    "classif = False\n",
    "noise_weight = 0.1\n",
    "max_t_extrap = 5\n",
    "n_total_tp = 100\n",
    "device = torch.device(\"cuda\" if torch.cuda.is_available() else \"cpu\")\n",
    "amp_start = 1.0\n",
    "amp_end = 1.0 \n",
    "freq_start =1.0\n",
    "freq_end = freq_start\n",
    "epochs = 5\n",
    "batch_size = 3\n",
    "sample_tp = 0.9\n",
    "n_samples = 4\n",
    "max_t_extrap = 50\n",
    "lr_val = 0.01\n",
    "cut_tp = None\n",
    "extrap = None\n",
    "\n",
    "from types import SimpleNamespace\n",
    "args = SimpleNamespace()\n",
    "args.sample_tp = 0\n",
    "args.cut_tp = None\n",
    "args.extrap = None\n"
   ]
  },
  {
   "cell_type": "code",
   "execution_count": null,
   "id": "21727144",
   "metadata": {},
   "outputs": [
    {
     "name": "stderr",
     "output_type": "stream",
     "text": [
      "/Users/luisa/Desktop/nygc/cluster/projects/fl4tsf/bin/lib/physionet.py:100: FutureWarning: You are using `torch.load` with `weights_only=False` (the current default value), which uses the default pickle module implicitly. It is possible to construct malicious pickle data which will execute arbitrary code during unpickling (See https://github.com/pytorch/pytorch/blob/main/SECURITY.md#untrusted-models for more details). In a future release, the default value for `weights_only` will be flipped to `True`. This limits the functions that could be executed during unpickling. Arbitrary objects will no longer be allowed to be loaded via this mode unless they are explicitly allowlisted by the user via `torch.serialization.add_safe_globals`. We recommend you start setting `weights_only=True` for any use case where you don't have full control of the loaded file. Please open an issue on GitHub for any issues related to this experimental feature.\n",
      "  self.data = torch.load(os.path.join(self.processed_folder, data_file), map_location='cpu')\n",
      "/Users/luisa/Desktop/nygc/cluster/projects/fl4tsf/bin/lib/physionet.py:101: FutureWarning: You are using `torch.load` with `weights_only=False` (the current default value), which uses the default pickle module implicitly. It is possible to construct malicious pickle data which will execute arbitrary code during unpickling (See https://github.com/pytorch/pytorch/blob/main/SECURITY.md#untrusted-models for more details). In a future release, the default value for `weights_only` will be flipped to `True`. This limits the functions that could be executed during unpickling. Arbitrary objects will no longer be allowed to be loaded via this mode unless they are explicitly allowlisted by the user via `torch.serialization.add_safe_globals`. We recommend you start setting `weights_only=True` for any use case where you don't have full control of the loaded file. Please open an issue on GitHub for any issues related to this experimental feature.\n",
      "  self.labels = torch.load(os.path.join(self.processed_folder, self.label_file), map_location='cpu')\n"
     ]
    }
   ],
   "source": [
    "\n",
    "#################################################################\n",
    "# Physionet Dataset - FETCH & FORMAT\n",
    "#################################################################\n",
    "quantization = 0.1 # quantization of time stamps in 0.1 hours\n",
    "n = 10000 # number of samples to use from the dataset\n",
    "device = torch.device(\"cuda:0\" if torch.cuda.is_available() else \"cpu\")\n",
    "\n",
    "train_dataset_obj = PhysioNet('../data/physionet', train=True, \n",
    "                                quantization = quantization,\n",
    "                                download=False, n_samples = min(10000, n), \n",
    "                                device = device)\n",
    "# Use custom collate_fn to combine samples with arbitrary time observations.\n",
    "# Returns the dataset along with mask and time steps\n",
    "test_dataset_obj = PhysioNet('../data/physionet', train=False, \n",
    "                                quantization = quantization,\n",
    "                                download=False, n_samples = min(10000,n), \n",
    "                                device = device)\n",
    "\n",
    "# Combine and shuffle samples from physionet Train and physionet Test\n",
    "total_dataset = train_dataset_obj[:len(train_dataset_obj)]\n",
    "data_min, data_max = get_data_min_max(total_dataset)\n",
    "\n",
    "client_0, client_1 = model_selection.train_test_split(total_dataset, test_size=0.5, random_state=42)\n",
    "train_data_0, test_data_0 = model_selection.train_test_split(client_0, train_size= 0.8, \n",
    "    random_state = 42, shuffle = True)\n",
    "train_data_1, test_data_1 = model_selection.train_test_split(client_1, train_size= 0.8,\n",
    "    random_state = 42, shuffle = True)\n",
    "\n",
    "#################################################################\n",
    "# Physionet Dataset - STORE\n",
    "#################################################################\n",
    "path_prefix = \"/Users/luisa/Desktop/nygc/cluster/projects/fl4tsf/data\"\n",
    "prefix = \"physionet\"\n",
    "\n",
    "\n",
    "store_dataset_physionet(train_data_0, test_data_0, dataset_prefix=\"physionet\", path_prefix=path_prefix, client_prefix=f\"client_0\")\n",
    "store_dataset_physionet(train_data_1, test_data_1, dataset_prefix=\"physionet\", path_prefix=path_prefix, client_prefix=f\"client_1\")\n",
    "torch.save(data_min, f\"{path_prefix}/{prefix}/client_0_data_min.pt\")\n",
    "torch.save(data_max, f\"{path_prefix}/{prefix}/client_0_data_max.pt\")\n",
    "torch.save(data_min, f\"{path_prefix}/{prefix}/client_1_data_min.pt\")\n",
    "torch.save(data_max, f\"{path_prefix}/{prefix}/client_1_data_max.pt\")"
   ]
  }
 ],
 "metadata": {
  "kernelspec": {
   "display_name": "base",
   "language": "python",
   "name": "python3"
  },
  "language_info": {
   "codemirror_mode": {
    "name": "ipython",
    "version": 3
   },
   "file_extension": ".py",
   "mimetype": "text/x-python",
   "name": "python",
   "nbconvert_exporter": "python",
   "pygments_lexer": "ipython3",
   "version": "3.12.7"
  }
 },
 "nbformat": 4,
 "nbformat_minor": 5
}
