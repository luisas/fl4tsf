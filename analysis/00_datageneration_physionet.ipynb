{
 "cells": [
  {
   "cell_type": "code",
   "execution_count": 39,
   "id": "a28f2639",
   "metadata": {},
   "outputs": [
    {
     "name": "stdout",
     "output_type": "stream",
     "text": [
      "The autoreload extension is already loaded. To reload it, use:\n",
      "  %reload_ext autoreload\n"
     ]
    }
   ],
   "source": [
    "import os\n",
    "import sys\n",
    "os.chdir(\"/Users/luisa/Desktop/nygc/cluster/projects/fl4tsf/bin\")\n",
    "sys.path.append(os.getcwd()) \n",
    "import torch\n",
    "\n",
    "from flower.task import Net, train\n",
    "import torch\n",
    "# import dataloader\n",
    "from torch.utils.data import DataLoader\n",
    "from lib.dataset_utils import *\n",
    "%matplotlib inline\n",
    "%load_ext autoreload\n",
    "%autoreload 2\n",
    "from lib.physionet import PhysioNet, variable_time_collate_fn, get_data_min_max\n",
    "from sklearn import model_selection\n",
    "from torch.utils.data import DataLoader\n",
    "from lib import utils\n",
    "from lib.dataset_utils import store_dataset_physionet\n",
    "\n",
    "path_prefix = \"/Users/luisa/Desktop/nygc/cluster/projects/fl4tsf/data\"\n",
    "prefix = \"physionet\"\n",
    "batch_size = 64\n",
    "classif = False\n",
    "noise_weight = 0.1\n",
    "max_t_extrap = 5\n",
    "n_total_tp = 100\n",
    "device = torch.device(\"cuda\" if torch.cuda.is_available() else \"cpu\")\n",
    "amp_start = 1.0\n",
    "amp_end = 1.0 \n",
    "freq_start =1.0\n",
    "freq_end = freq_start\n",
    "epochs = 5\n",
    "batch_size = 3\n",
    "sample_tp = 0.9\n",
    "n_samples = 4\n",
    "max_t_extrap = 50\n",
    "lr_val = 0.01\n",
    "cut_tp = None\n",
    "extrap = None\n",
    "\n",
    "from types import SimpleNamespace\n",
    "args = SimpleNamespace()\n",
    "args.sample_tp = 0\n",
    "args.cut_tp = None\n",
    "args.extrap = None\n"
   ]
  },
  {
   "cell_type": "code",
   "execution_count": 40,
   "id": "21727144",
   "metadata": {},
   "outputs": [],
   "source": [
    "\n",
    "#################################################################\n",
    "# Physionet Dataset - FETCH & FORMAT\n",
    "#################################################################\n",
    "quantization = 0.1 # quantization of time stamps in 0.1 hours\n",
    "n = 10000 # number of samples to use from the dataset\n",
    "device = torch.device(\"cuda:0\" if torch.cuda.is_available() else \"cpu\")\n",
    "\n",
    "train_dataset_obj = PhysioNet('../data/physionet', train=True, \n",
    "                                quantization = quantization,\n",
    "                                download=False, n_samples = min(10000, n), \n",
    "                                device = device)\n",
    "# Use custom collate_fn to combine samples with arbitrary time observations.\n",
    "# Returns the dataset along with mask and time steps\n",
    "test_dataset_obj = PhysioNet('../data/physionet', train=False, \n",
    "                                quantization = quantization,\n",
    "                                download=False, n_samples = min(10000,n), \n",
    "                                device = device)\n",
    "\n",
    "# Combine and shuffle samples from physionet Train and physionet Test\n",
    "total_dataset = train_dataset_obj[:len(train_dataset_obj)]\n",
    "attr_names = train_dataset_obj.params"
   ]
  },
  {
   "cell_type": "markdown",
   "id": "2c4f6e84",
   "metadata": {},
   "source": [
    "## Store full dataset"
   ]
  },
  {
   "cell_type": "code",
   "execution_count": 41,
   "id": "2c18c5ee",
   "metadata": {},
   "outputs": [],
   "source": [
    "data_min, data_max = get_data_min_max(total_dataset)\n",
    "\n",
    "client_0, client_1 = model_selection.train_test_split(total_dataset, test_size=0.5, random_state=42)\n",
    "train_data_0, test_data_0 = model_selection.train_test_split(client_0, train_size= 0.8, \n",
    "    random_state = 42, shuffle = True)\n",
    "train_data_1, test_data_1 = model_selection.train_test_split(client_1, train_size= 0.8,\n",
    "    random_state = 42, shuffle = True)\n",
    "\n",
    "#################################################################\n",
    "# Physionet Dataset - STORE\n",
    "#################################################################\n",
    "path_prefix = \"/Users/luisa/Desktop/nygc/cluster/projects/fl4tsf/data\"\n",
    "prefix = \"physionet\"\n",
    "\n",
    "\n",
    "store_dataset_physionet(train_data_0, test_data_0, dataset_prefix=\"physionet\", path_prefix=path_prefix, client_prefix=f\"client_0\")\n",
    "store_dataset_physionet(train_data_1, test_data_1, dataset_prefix=\"physionet\", path_prefix=path_prefix, client_prefix=f\"client_1\")\n",
    "torch.save(attr_names, f\"{path_prefix}/{prefix}/attr_names.pt\")\n",
    "torch.save(data_min, f\"{path_prefix}/{prefix}/client_0_data_min.pt\")\n",
    "torch.save(data_max, f\"{path_prefix}/{prefix}/client_0_data_max.pt\")\n",
    "torch.save(data_min, f\"{path_prefix}/{prefix}/client_1_data_min.pt\")\n",
    "torch.save(data_max, f\"{path_prefix}/{prefix}/client_1_data_max.pt\")"
   ]
  },
  {
   "cell_type": "code",
   "execution_count": 43,
   "id": "3103461e",
   "metadata": {},
   "outputs": [
    {
     "data": {
      "text/plain": [
       "torch.Size([92, 41])"
      ]
     },
     "execution_count": 43,
     "metadata": {},
     "output_type": "execute_result"
    }
   ],
   "source": [
    "train_data_0[1][2].shape"
   ]
  },
  {
   "cell_type": "markdown",
   "id": "38daa8a2",
   "metadata": {},
   "source": [
    "-----------------------------------"
   ]
  },
  {
   "cell_type": "markdown",
   "id": "00a6d6b8",
   "metadata": {},
   "source": [
    "## Create a subset dataset, where we only keep the features that are more continous\n"
   ]
  },
  {
   "cell_type": "code",
   "execution_count": 36,
   "id": "68e38224",
   "metadata": {},
   "outputs": [
    {
     "name": "stdout",
     "output_type": "stream",
     "text": [
      "Filtered attributes: ['Weight' 'DiasABP' 'GCS' 'HR' 'MAP' 'NIDiasABP' 'NIMAP' 'NISysABP'\n",
      " 'RespRate' 'SysABP' 'Temp' 'Urine']\n",
      "Number of attributes after filtering: 12\n"
     ]
    }
   ],
   "source": [
    "attr_names = torch.load(f\"{path_prefix}/{prefix}/attr_names.pt\", weights_only=False)\n",
    "threshold_attribute = 10\n",
    "attr_names = np.array(attr_names)\n",
    "mask_sum = np.array([x[3].sum(axis=0) for x in total_dataset])\n",
    "attribute_filtered_idx = mask_sum.mean(axis=0) > 10\n",
    "attr_names_filtered = attr_names[attribute_filtered_idx]\n",
    "index_filtered = np.where(attribute_filtered_idx)[0]\n",
    "print(f\"Filtered attributes: {attr_names_filtered}\")\n",
    "print(f\"Number of attributes after filtering: {len(attr_names_filtered)}\")"
   ]
  },
  {
   "cell_type": "code",
   "execution_count": 37,
   "id": "58be76d4",
   "metadata": {},
   "outputs": [],
   "source": [
    "# now downsample the dataset to only include attributes that are above the threshold\n",
    "filtered_dataset = []\n",
    "for sample in total_dataset:\n",
    "    # use  index_filtered to filter the sampl\n",
    "    filtered_sample = (sample[0], sample[1], sample[2][:,index_filtered], sample[3][:, index_filtered], sample[4])\n",
    "    filtered_dataset.append(filtered_sample)"
   ]
  },
  {
   "cell_type": "code",
   "execution_count": 38,
   "id": "558ae794",
   "metadata": {},
   "outputs": [],
   "source": [
    "data_min, data_max = get_data_min_max(filtered_dataset)\n",
    "\n",
    "client_0, client_1 = model_selection.train_test_split(filtered_dataset, test_size=0.5, random_state=42)\n",
    "train_data_0, test_data_0 = model_selection.train_test_split(client_0, train_size= 0.8, \n",
    "    random_state = 42, shuffle = True)\n",
    "train_data_1, test_data_1 = model_selection.train_test_split(client_1, train_size= 0.8,\n",
    "    random_state = 42, shuffle = True)\n",
    "\n",
    "#################################################################\n",
    "# Physionet Dataset - STORE\n",
    "#################################################################\n",
    "path_prefix = \"/Users/luisa/Desktop/nygc/cluster/projects/fl4tsf/data\"\n",
    "prefix = \"physionet_filtered\"\n",
    "\n",
    "\n",
    "store_dataset_physionet(train_data_0, test_data_0, dataset_prefix=\"physionet_filtered\", path_prefix=path_prefix, client_prefix=f\"client_0\")\n",
    "store_dataset_physionet(train_data_1, test_data_1, dataset_prefix=\"physionet_filtered\", path_prefix=path_prefix, client_prefix=f\"client_1\")\n",
    "torch.save(attr_names, f\"{path_prefix}/{prefix}/attr_names.pt\")\n",
    "torch.save(data_min, f\"{path_prefix}/{prefix}/client_0_data_min.pt\")\n",
    "torch.save(data_max, f\"{path_prefix}/{prefix}/client_0_data_max.pt\")\n",
    "torch.save(data_min, f\"{path_prefix}/{prefix}/client_1_data_min.pt\")\n",
    "torch.save(data_max, f\"{path_prefix}/{prefix}/client_1_data_max.pt\")"
   ]
  },
  {
   "cell_type": "code",
   "execution_count": null,
   "id": "93a644fc",
   "metadata": {},
   "outputs": [],
   "source": []
  }
 ],
 "metadata": {
  "kernelspec": {
   "display_name": "base",
   "language": "python",
   "name": "python3"
  },
  "language_info": {
   "codemirror_mode": {
    "name": "ipython",
    "version": 3
   },
   "file_extension": ".py",
   "mimetype": "text/x-python",
   "name": "python",
   "nbconvert_exporter": "python",
   "pygments_lexer": "ipython3",
   "version": "3.12.7"
  }
 },
 "nbformat": 4,
 "nbformat_minor": 5
}
